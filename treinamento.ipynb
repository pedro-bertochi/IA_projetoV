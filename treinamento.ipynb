{
 "cells": [
  {
   "cell_type": "code",
   "execution_count": 1,
   "metadata": {},
   "outputs": [],
   "source": [
    "import os\n",
    "import shutil\n",
    "import numpy as np\n",
    "import cv2\n",
    "import tensorflow as tf\n",
    "from tensorflow.keras.models import Sequential, load_model\n",
    "from tensorflow.keras.layers import Conv2D, MaxPooling2D, Flatten, Dense"
   ]
  },
  {
   "cell_type": "code",
   "execution_count": 2,
   "metadata": {},
   "outputs": [],
   "source": [
    "# Diretórios\n",
    "classificacao_dir = 'image/classificacao'\n",
    "treinamento_dir = 'image/treinamento'\n",
    "classes = [\"boa\", \"ruim\"]"
   ]
  },
  {
   "cell_type": "code",
   "execution_count": 3,
   "metadata": {},
   "outputs": [],
   "source": [
    "# Criar diretórios de treinamento se não existirem\n",
    "for classe in classes:\n",
    "    os.makedirs(os.path.join(treinamento_dir, classe), exist_ok=True)"
   ]
  },
  {
   "cell_type": "code",
   "execution_count": 4,
   "metadata": {},
   "outputs": [],
   "source": [
    "# Função para limpar nomes das imagens\n",
    "def limpar_nome(nome):\n",
    "    nome = unicodedata.normalize('NFKD', nome).encode('ASCII', 'ignore').decode('ASCII')\n",
    "    nome = nome.replace(\"Copia de \", \"\").replace(\"Cópia de \", \"\").replace(\" \", \"\")\n",
    "    return nome"
   ]
  },
  {
   "cell_type": "code",
   "execution_count": 5,
   "metadata": {},
   "outputs": [],
   "source": [
    "# Renomear imagens em todas as subpastas\n",
    "def renomear_imagens_em_todas(diretorio_principal):\n",
    "    for classe in classes:\n",
    "        pasta = os.path.join(diretorio_principal, classe)\n",
    "        if not os.path.isdir(pasta):\n",
    "            continue\n",
    "        for nome_antigo in os.listdir(pasta):\n",
    "            caminho_antigo = os.path.join(pasta, nome_antigo)\n",
    "            if os.path.isfile(caminho_antigo) and nome_antigo.lower().endswith(('.jpg', '.jpeg', '.png')):\n",
    "                nome_limpo = limpar_nome(nome_antigo)\n",
    "                caminho_novo = os.path.join(pasta, nome_limpo)\n",
    "                if caminho_antigo != caminho_novo:\n",
    "                    os.rename(caminho_antigo, caminho_novo)\n",
    "                    print(f\"Renomeado: {nome_antigo} → {nome_limpo}\")\n",
    "\n",
    "# Executar renomeio\n",
    "renomear_imagens_em_todas(classificacao_dir)"
   ]
  },
  {
   "cell_type": "code",
   "execution_count": 6,
   "metadata": {},
   "outputs": [],
   "source": [
    "# Função para emparelhar imagens consecutivas (ex: SNAP0000.jpg + SNAP0001.jpg)\n",
    "def emparelhar_imagens(origem_dir):\n",
    "    imagens = sorted([f for f in os.listdir(origem_dir) if f.lower().endswith(('.png', '.jpg', '.jpeg'))])\n",
    "    pares = []\n",
    "    for i in range(0, len(imagens) - 1, 2):  # Pega dois de cada vez\n",
    "        img1 = os.path.join(origem_dir, imagens[i])\n",
    "        img2 = os.path.join(origem_dir, imagens[i + 1])\n",
    "        pares.append([img1, img2])\n",
    "    return pares"
   ]
  },
  {
   "cell_type": "code",
   "execution_count": 7,
   "metadata": {},
   "outputs": [],
   "source": [
    "for classe in classes:\n",
    "    origem = os.path.join(classificacao_dir, classe)\n",
    "    destino = os.path.join(treinamento_dir, classe)\n",
    "    os.makedirs(destino, exist_ok=True)\n",
    "\n",
    "    pares = emparelhar_imagens(origem)\n",
    "\n",
    "    for par in pares:\n",
    "        for img_path in par:\n",
    "            nome_arquivo = os.path.basename(img_path)\n",
    "            nome_limpo = limpar_nome(nome_arquivo)\n",
    "            novo_caminho = os.path.join(destino, nome_limpo)\n",
    "\n",
    "            # Tenta carregar a imagem antes de copiar\n",
    "            img = cv2.imread(img_path)\n",
    "            if img is not None:\n",
    "                shutil.copy(img_path, novo_caminho)\n",
    "            else:\n",
    "                print(f\"Imagem ignorada por erro de leitura: {img_path}\")"
   ]
  },
  {
   "cell_type": "code",
   "execution_count": 8,
   "metadata": {},
   "outputs": [],
   "source": [
    "def processar_par_de_imagens(par):\n",
    "    img1 = cv2.imread(par[0])\n",
    "    img2 = cv2.imread(par[1])\n",
    "    if img1 is None:\n",
    "        raise ValueError(f\"Erro ao carregar a imagem: {par[0]}\")\n",
    "    if img2 is None:\n",
    "        raise ValueError(f\"Erro ao carregar a imagem: {par[1]}\")\n",
    "    img1 = cv2.resize(img1, (128, 128))\n",
    "    img2 = cv2.resize(img2, (128, 128))\n",
    "    img_concatenada = np.concatenate((img1, img2), axis=1)  # Junta lado a lado\n",
    "    return img_concatenada"
   ]
  },
  {
   "cell_type": "code",
   "execution_count": 9,
   "metadata": {},
   "outputs": [],
   "source": [
    "# Criar gerador customizado para carregar pares de imagens\n",
    "class ParImageDataGenerator:\n",
    "    def __init__(self, directory, batch_size=32, target_size=(128, 256), class_mode='sparse'):\n",
    "        self.directory = directory\n",
    "        self.batch_size = batch_size\n",
    "        self.target_size = target_size\n",
    "        self.class_mode = class_mode\n",
    "        self.classes = classes\n",
    "        self.data = self._load_data()\n",
    "\n",
    "    def _load_data(self):\n",
    "        data = []\n",
    "        for classe in self.classes:\n",
    "            classe_dir = os.path.join(self.directory, classe)\n",
    "            pares = emparelhar_imagens(classe_dir)\n",
    "            for par in pares:\n",
    "                data.append((par, self.classes.index(classe)))\n",
    "        return data\n",
    "\n",
    "    def __iter__(self):\n",
    "        return self\n",
    "\n",
    "    def __next__(self):\n",
    "        if not self.data:\n",
    "            raise StopIteration\n",
    "        batch = self.data[:self.batch_size]\n",
    "        self.data = self.data[self.batch_size:]\n",
    "        inputs = [processar_par_de_imagens(par) for par, _ in batch]\n",
    "        labels = [label for _, label in batch]\n",
    "        return np.array(inputs) / 255.0, np.array(labels)"
   ]
  },
  {
   "cell_type": "code",
   "execution_count": 10,
   "metadata": {},
   "outputs": [],
   "source": [
    "# Criar geradores de treinamento e validação\n",
    "train_generator = ParImageDataGenerator(treinamento_dir)\n",
    "validation_generator = ParImageDataGenerator(treinamento_dir)"
   ]
  },
  {
   "cell_type": "code",
   "execution_count": 11,
   "metadata": {},
   "outputs": [],
   "source": [
    "# Caminho do modelo\n",
    "modelo_path = 'model/modelo_solda.h5'"
   ]
  },
  {
   "cell_type": "code",
   "execution_count": 12,
   "metadata": {},
   "outputs": [
    {
     "name": "stdout",
     "output_type": "stream",
     "text": [
      "Treinando um novo modelo...\n"
     ]
    },
    {
     "name": "stderr",
     "output_type": "stream",
     "text": [
      "c:\\Users\\finan\\OneDrive - Nimofast Brasil SA\\Área de Trabalho\\cod\\python\\AI\\venv\\Lib\\site-packages\\keras\\src\\layers\\convolutional\\base_conv.py:107: UserWarning: Do not pass an `input_shape`/`input_dim` argument to a layer. When using Sequential models, prefer using an `Input(shape)` object as the first layer in the model instead.\n",
      "  super().__init__(activity_regularizer=activity_regularizer, **kwargs)\n"
     ]
    }
   ],
   "source": [
    "# Verifica se o modelo já existe\n",
    "if os.path.exists(modelo_path):\n",
    "    model = load_model(modelo_path)\n",
    "    print(\"Modelo carregado, continuando o treinamento...\")\n",
    "else:\n",
    "    print(\"Treinando um novo modelo...\")\n",
    "    model = Sequential([\n",
    "        Conv2D(32, (3, 3), activation='relu', input_shape=(128, 256, 3)),\n",
    "        MaxPooling2D(2, 2),\n",
    "        Conv2D(64, (3, 3), activation='relu'),\n",
    "        MaxPooling2D(2, 2),\n",
    "        Flatten(),\n",
    "        Dense(128, activation='relu'),\n",
    "        Dense(2, activation='softmax')\n",
    "    ])\n",
    "    model.compile(optimizer='adam', loss='sparse_categorical_crossentropy', metrics=['accuracy'])\n"
   ]
  },
  {
   "cell_type": "code",
   "execution_count": 13,
   "metadata": {},
   "outputs": [
    {
     "name": "stdout",
     "output_type": "stream",
     "text": [
      "Epoch 1/10\n",
      "\u001b[1m1/1\u001b[0m \u001b[32m━━━━━━━━━━━━━━━━━━━━\u001b[0m\u001b[37m\u001b[0m \u001b[1m2s\u001b[0m 2s/step - accuracy: 0.9062 - loss: 0.6510 - val_accuracy: 1.0000 - val_loss: 0.0000e+00\n",
      "Epoch 2/10\n",
      "\u001b[1m1/1\u001b[0m \u001b[32m━━━━━━━━━━━━━━━━━━━━\u001b[0m\u001b[37m\u001b[0m \u001b[1m1s\u001b[0m 536ms/step - accuracy: 1.0000 - loss: 0.0000e+00 - val_accuracy: 1.0000 - val_loss: 0.0000e+00\n",
      "Epoch 3/10\n",
      "\u001b[1m1/1\u001b[0m \u001b[32m━━━━━━━━━━━━━━━━━━━━\u001b[0m\u001b[37m\u001b[0m \u001b[1m1s\u001b[0m 676ms/step - accuracy: 1.0000 - loss: 0.0000e+00 - val_accuracy: 1.0000 - val_loss: 0.0000e+00\n",
      "Epoch 4/10\n",
      "\u001b[1m1/1\u001b[0m \u001b[32m━━━━━━━━━━━━━━━━━━━━\u001b[0m\u001b[37m\u001b[0m \u001b[1m1s\u001b[0m 702ms/step - accuracy: 1.0000 - loss: 0.0000e+00 - val_accuracy: 1.0000 - val_loss: 0.0000e+00\n",
      "Epoch 5/10\n",
      "\u001b[1m1/1\u001b[0m \u001b[32m━━━━━━━━━━━━━━━━━━━━\u001b[0m\u001b[37m\u001b[0m \u001b[1m1s\u001b[0m 719ms/step - accuracy: 1.0000 - loss: 0.0000e+00 - val_accuracy: 1.0000 - val_loss: 0.0000e+00\n",
      "Epoch 6/10\n",
      "\u001b[1m1/1\u001b[0m \u001b[32m━━━━━━━━━━━━━━━━━━━━\u001b[0m\u001b[37m\u001b[0m \u001b[1m1s\u001b[0m 686ms/step - accuracy: 1.0000 - loss: 0.0000e+00 - val_accuracy: 1.0000 - val_loss: 0.0000e+00\n",
      "Epoch 7/10\n",
      "\u001b[1m1/1\u001b[0m \u001b[32m━━━━━━━━━━━━━━━━━━━━\u001b[0m\u001b[37m\u001b[0m \u001b[1m1s\u001b[0m 609ms/step - accuracy: 1.0000 - loss: 0.0000e+00 - val_accuracy: 1.0000 - val_loss: 0.0000e+00\n",
      "Epoch 8/10\n",
      "\u001b[1m1/1\u001b[0m \u001b[32m━━━━━━━━━━━━━━━━━━━━\u001b[0m\u001b[37m\u001b[0m \u001b[1m1s\u001b[0m 618ms/step - accuracy: 1.0000 - loss: 0.0000e+00 - val_accuracy: 1.0000 - val_loss: 0.0000e+00\n",
      "Epoch 9/10\n",
      "\u001b[1m1/1\u001b[0m \u001b[32m━━━━━━━━━━━━━━━━━━━━\u001b[0m\u001b[37m\u001b[0m \u001b[1m1s\u001b[0m 648ms/step - accuracy: 1.0000 - loss: 0.0000e+00 - val_accuracy: 1.0000 - val_loss: 0.0000e+00\n",
      "Epoch 10/10\n",
      "\u001b[1m1/1\u001b[0m \u001b[32m━━━━━━━━━━━━━━━━━━━━\u001b[0m\u001b[37m\u001b[0m \u001b[1m1s\u001b[0m 662ms/step - accuracy: 1.0000 - loss: 0.0000e+00 - val_accuracy: 1.0000 - val_loss: 0.0000e+00\n"
     ]
    },
    {
     "name": "stderr",
     "output_type": "stream",
     "text": [
      "WARNING:absl:You are saving your model as an HDF5 file via `model.save()` or `keras.saving.save_model(model)`. This file format is considered legacy. We recommend using instead the native Keras format, e.g. `model.save('my_model.keras')` or `keras.saving.save_model(model, 'my_model.keras')`. \n"
     ]
    },
    {
     "name": "stdout",
     "output_type": "stream",
     "text": [
      "Modelo salvo em: model/modelo_solda.h5\n"
     ]
    }
   ],
   "source": [
    "# Verificar se há dados antes de treinar\n",
    "try:\n",
    "    x_train, y_train = next(iter(train_generator))\n",
    "    x_val, y_val = next(iter(validation_generator))\n",
    "\n",
    "    model.fit(\n",
    "        x=x_train, y=y_train,\n",
    "        epochs=10,\n",
    "        validation_data=(x_val, y_val)\n",
    "    )\n",
    "\n",
    "    model.save(modelo_path)\n",
    "    print(f\"Modelo salvo em: {modelo_path}\")\n",
    "\n",
    "except StopIteration:\n",
    "    print(\"Erro: Nenhum dado disponível para treino. Verifique as imagens no diretório.\")"
   ]
  }
 ],
 "metadata": {
  "kernelspec": {
   "display_name": "venv",
   "language": "python",
   "name": "venv"
  },
  "language_info": {
   "codemirror_mode": {
    "name": "ipython",
    "version": 3
   },
   "file_extension": ".py",
   "mimetype": "text/x-python",
   "name": "python",
   "nbconvert_exporter": "python",
   "pygments_lexer": "ipython3",
   "version": "3.11.9"
  }
 },
 "nbformat": 4,
 "nbformat_minor": 2
}
