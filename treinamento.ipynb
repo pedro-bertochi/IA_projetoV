{
 "cells": [
  {
   "cell_type": "code",
   "execution_count": null,
   "metadata": {},
   "outputs": [],
   "source": [
    "import os\n",
    "import tensorflow as tf\n",
    "from tensorflow.keras.preprocessing.image import ImageDataGenerator"
   ]
  },
  {
   "cell_type": "code",
   "execution_count": null,
   "metadata": {},
   "outputs": [],
   "source": [
    "# Caminho das pastas de treinamento\n",
    "treinamento_dir = 'image/treinamento'\n",
    "treinamento_boa_dir = os.path.join(treinamento_dir, 'boa')\n",
    "treinamento_ruim_dir = os.path.join(treinamento_dir, 'ruim')\n",
    "\n",
    "# Caminho para salvar o modelo\n",
    "modelo_path = 'model/modelo_solda.h5'"
   ]
  },
  {
   "cell_type": "code",
   "execution_count": null,
   "metadata": {},
   "outputs": [],
   "source": [
    "# Verifica se o modelo já existe, se existir, carrega o modelo\n",
    "if os.path.exists(modelo_path):\n",
    "    model = tf.keras.models.load_model(modelo_path)\n",
    "    print(\"Modelo carregado, continuando o treinamento...\")\n",
    "else:\n",
    "    # Caso contrário, cria e treina um novo modelo\n",
    "    print(\"Treinando um novo modelo...\")\n",
    "\n",
    "    model = tf.keras.Sequential([\n",
    "        # Camada convolucional 1\n",
    "        tf.keras.layers.Conv2D(32, (3, 3), activation='relu', input_shape=(128, 128, 3)),\n",
    "        tf.keras.layers.MaxPooling2D(2, 2),\n",
    "        # Camada convolucional 2\n",
    "        tf.keras.layers.Conv2D(64, (3, 3), activation='relu'),\n",
    "        tf.keras.layers.MaxPooling2D(2, 2),\n",
    "        # Camada densa\n",
    "        tf.keras.layers.Flatten(),\n",
    "        tf.keras.layers.Dense(128, activation='relu'),\n",
    "        tf.keras.layers.Dense(2, activation='softmax')  # Para classificação \"boa\" e \"ruim\"\n",
    "    ])\n",
    "\n",
    "    model.compile(optimizer='adam', loss='sparse_categorical_crossentropy', metrics=['accuracy'])\n"
   ]
  },
  {
   "cell_type": "code",
   "execution_count": null,
   "metadata": {},
   "outputs": [],
   "source": [
    "# Gerador de imagens de treinamento\n",
    "train_datagen = ImageDataGenerator(rescale=1.0/255.0)\n",
    "\n",
    "train_generator = train_datagen.flow_from_directory(\n",
    "    treinamento_dir,\n",
    "    target_size=(128, 128),\n",
    "    batch_size=32,\n",
    "    class_mode='sparse'  # 'sparse' pois temos 2 classes (boa, ruim)\n",
    ")"
   ]
  },
  {
   "cell_type": "code",
   "execution_count": null,
   "metadata": {},
   "outputs": [],
   "source": [
    "# Treinamento do modelo\n",
    "model.fit(train_generator, epochs=10)  # Aqui você pode ajustar o número de épocas conforme necessário\n"
   ]
  },
  {
   "cell_type": "code",
   "execution_count": null,
   "metadata": {},
   "outputs": [],
   "source": [
    "# Salvar o modelo treinado\n",
    "model.save(modelo_path)\n",
    "print(\"Modelo salvo em: \", modelo_path)"
   ]
  }
 ],
 "metadata": {
  "kernelspec": {
   "display_name": "venv",
   "language": "python",
   "name": "venv"
  },
  "language_info": {
   "codemirror_mode": {
    "name": "ipython",
    "version": 3
   },
   "file_extension": ".py",
   "mimetype": "text/x-python",
   "name": "python",
   "nbconvert_exporter": "python",
   "pygments_lexer": "ipython3",
   "version": "3.11.9"
  }
 },
 "nbformat": 4,
 "nbformat_minor": 2
}
