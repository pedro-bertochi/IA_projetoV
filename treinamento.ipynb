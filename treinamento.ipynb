{
 "cells": [
  {
   "cell_type": "code",
   "execution_count": 33,
   "metadata": {},
   "outputs": [],
   "source": [
    "import os\n",
    "import tensorflow as tf\n",
    "import numpy as np\n",
    "import shutil\n",
    "import cv2\n",
    "from tensorflow.keras.preprocessing.image import ImageDataGenerator"
   ]
  },
  {
   "cell_type": "code",
   "execution_count": 34,
   "metadata": {},
   "outputs": [],
   "source": [
    "# Diretórios\n",
    "classificacao_dir = 'image/classificacao'\n",
    "treinamento_dir = 'image/treinamento'\n",
    "classes = [\"boa\", \"ruim\"]"
   ]
  },
  {
   "cell_type": "code",
   "execution_count": 35,
   "metadata": {},
   "outputs": [],
   "source": [
    "# Criar diretórios de treinamento se não existirem\n",
    "for classe in classes:\n",
    "    os.makedirs(os.path.join(treinamento_dir, classe), exist_ok=True)"
   ]
  },
  {
   "cell_type": "code",
   "execution_count": 36,
   "metadata": {},
   "outputs": [],
   "source": [
    "# Função para emparelhar imagens (assume nomes como \"solda1_frente.jpg\" e \"solda1_tras.jpg\")\n",
    "def emparelhar_imagens(origem_dir):\n",
    "    imagens = sorted([f for f in os.listdir(origem_dir) if f.endswith(('.png', '.jpg', '.jpeg'))])\n",
    "    pares = {}\n",
    "\n",
    "    for img in imagens:\n",
    "        nome_base = img.rsplit('_', 1)[0]  # Remove \"_frente\" ou \"_tras\"\n",
    "        if nome_base not in pares:\n",
    "            pares[nome_base] = []\n",
    "        pares[nome_base].append(os.path.join(origem_dir, img))\n",
    "\n",
    "    return [p for p in pares.values() if len(p) == 2]  # Apenas pares completos"
   ]
  },
  {
   "cell_type": "code",
   "execution_count": 37,
   "metadata": {},
   "outputs": [
    {
     "name": "stdout",
     "output_type": "stream",
     "text": [
      "Imagens copiadas para treinamento!\n"
     ]
    }
   ],
   "source": [
    "# Copiar imagens para diretórios de treinamento\n",
    "for classe in classes:\n",
    "    origem = os.path.join(classificacao_dir, classe)\n",
    "    destino = os.path.join(treinamento_dir, classe)\n",
    "    pares = emparelhar_imagens(origem)\n",
    "\n",
    "    for par in pares:\n",
    "        for img in par:\n",
    "            shutil.copy(img, destino)\n",
    "\n",
    "print(\"Imagens copiadas para treinamento!\")"
   ]
  },
  {
   "cell_type": "code",
   "execution_count": 38,
   "metadata": {},
   "outputs": [],
   "source": [
    "# Função para processar e concatenar pares de imagens\n",
    "def processar_par_de_imagens(par):\n",
    "    img1 = cv2.imread(par[0])\n",
    "    img2 = cv2.imread(par[1])\n",
    "\n",
    "    img1 = cv2.resize(img1, (128, 128))\n",
    "    img2 = cv2.resize(img2, (128, 128))\n",
    "\n",
    "    img_concatenada = np.concatenate((img1, img2), axis=1)  # Junta lado a lado\n",
    "    return img_concatenada"
   ]
  },
  {
   "cell_type": "code",
   "execution_count": 39,
   "metadata": {},
   "outputs": [],
   "source": [
    "# Criar gerador customizado para carregar pares de imagens\n",
    "class ParImageDataGenerator:\n",
    "    def __init__(self, directory, batch_size=32, target_size=(128, 256), class_mode='sparse'):\n",
    "        self.directory = directory\n",
    "        self.batch_size = batch_size\n",
    "        self.target_size = target_size\n",
    "        self.class_mode = class_mode\n",
    "        self.classes = classes\n",
    "        self.data = self._load_data()\n",
    "\n",
    "    def _load_data(self):\n",
    "        data = []\n",
    "        for classe in self.classes:\n",
    "            classe_dir = os.path.join(self.directory, classe)\n",
    "            pares = emparelhar_imagens(classe_dir)\n",
    "            for par in pares:\n",
    "                data.append((par, self.classes.index(classe)))\n",
    "        return data\n",
    "\n",
    "    def __iter__(self):\n",
    "        return self\n",
    "\n",
    "    def __next__(self):\n",
    "        if not self.data:\n",
    "            raise StopIteration\n",
    "        batch = self.data[:self.batch_size]\n",
    "        self.data = self.data[self.batch_size:]\n",
    "\n",
    "        inputs = [processar_par_de_imagens(par) for par, _ in batch]\n",
    "        labels = [label for _, label in batch]\n",
    "\n",
    "        return np.array(inputs) / 255.0, np.array(labels)"
   ]
  },
  {
   "cell_type": "code",
   "execution_count": 40,
   "metadata": {},
   "outputs": [],
   "source": [
    "# Criar geradores de treinamento e validação\n",
    "train_generator = ParImageDataGenerator(treinamento_dir)\n",
    "validation_generator = ParImageDataGenerator(treinamento_dir)"
   ]
  },
  {
   "cell_type": "code",
   "execution_count": 41,
   "metadata": {},
   "outputs": [],
   "source": [
    "# Caminho do modelo\n",
    "modelo_path = 'model/modelo_solda.h5'"
   ]
  },
  {
   "cell_type": "code",
   "execution_count": 42,
   "metadata": {},
   "outputs": [
    {
     "name": "stdout",
     "output_type": "stream",
     "text": [
      "Treinando um novo modelo...\n"
     ]
    }
   ],
   "source": [
    "# Verifica se o modelo já existe\n",
    "if os.path.exists(modelo_path):\n",
    "    model = tf.keras.models.load_model(modelo_path)\n",
    "    print(\"Modelo carregado, continuando o treinamento...\")\n",
    "else:\n",
    "    print(\"Treinando um novo modelo...\")\n",
    "\n",
    "    model = tf.keras.Sequential([\n",
    "        tf.keras.layers.Conv2D(32, (3, 3), activation='relu', input_shape=(128, 256, 3)),  # Largura dobrada\n",
    "        tf.keras.layers.MaxPooling2D(2, 2),\n",
    "        tf.keras.layers.Conv2D(64, (3, 3), activation='relu'),\n",
    "        tf.keras.layers.MaxPooling2D(2, 2),\n",
    "        tf.keras.layers.Flatten(),\n",
    "        tf.keras.layers.Dense(128, activation='relu'),\n",
    "        tf.keras.layers.Dense(2, activation='softmax')\n",
    "    ])\n",
    "\n",
    "    model.compile(optimizer='adam', loss='sparse_categorical_crossentropy', metrics=['accuracy'])"
   ]
  },
  {
   "cell_type": "code",
   "execution_count": 43,
   "metadata": {},
   "outputs": [
    {
     "name": "stdout",
     "output_type": "stream",
     "text": [
      "Epoch 1/5\n",
      "\u001b[1m1/1\u001b[0m \u001b[32m━━━━━━━━━━━━━━━━━━━━\u001b[0m\u001b[37m\u001b[0m \u001b[1m3s\u001b[0m 3s/step - accuracy: 0.5000 - loss: 0.7006 - val_accuracy: 0.9375 - val_loss: 0.2455\n",
      "Epoch 2/5\n",
      "\u001b[1m1/1\u001b[0m \u001b[32m━━━━━━━━━━━━━━━━━━━━\u001b[0m\u001b[37m\u001b[0m \u001b[1m1s\u001b[0m 790ms/step - accuracy: 0.9375 - loss: 0.2455 - val_accuracy: 0.4375 - val_loss: 2.9138\n",
      "Epoch 3/5\n",
      "\u001b[1m1/1\u001b[0m \u001b[32m━━━━━━━━━━━━━━━━━━━━\u001b[0m\u001b[37m\u001b[0m \u001b[1m1s\u001b[0m 511ms/step - accuracy: 0.4375 - loss: 2.9138 - val_accuracy: 0.9375 - val_loss: 0.0734\n",
      "Epoch 4/5\n",
      "\u001b[1m1/1\u001b[0m \u001b[32m━━━━━━━━━━━━━━━━━━━━\u001b[0m\u001b[37m\u001b[0m \u001b[1m0s\u001b[0m 499ms/step - accuracy: 0.9375 - loss: 0.0734 - val_accuracy: 0.5625 - val_loss: 1.3314\n",
      "Epoch 5/5\n",
      "\u001b[1m1/1\u001b[0m \u001b[32m━━━━━━━━━━━━━━━━━━━━\u001b[0m\u001b[37m\u001b[0m \u001b[1m0s\u001b[0m 436ms/step - accuracy: 0.5625 - loss: 1.3314 - val_accuracy: 0.9375 - val_loss: 0.2414\n"
     ]
    },
    {
     "name": "stderr",
     "output_type": "stream",
     "text": [
      "WARNING:absl:You are saving your model as an HDF5 file via `model.save()` or `keras.saving.save_model(model)`. This file format is considered legacy. We recommend using instead the native Keras format, e.g. `model.save('my_model.keras')` or `keras.saving.save_model(model, 'my_model.keras')`. \n"
     ]
    },
    {
     "name": "stdout",
     "output_type": "stream",
     "text": [
      "Modelo salvo em: model/modelo_solda.h5\n"
     ]
    }
   ],
   "source": [
    "# **Verificar se há dados antes de treinar**\n",
    "try:\n",
    "    x_train, y_train = next(iter(train_generator))\n",
    "    x_val, y_val = next(iter(validation_generator))\n",
    "\n",
    "    model.fit(\n",
    "        x=x_train, y=y_train,\n",
    "        epochs=5,\n",
    "        validation_data=(x_val, y_val)\n",
    "    )\n",
    "\n",
    "    # Salvar o modelo treinado\n",
    "    model.save(modelo_path)\n",
    "    print(f\"Modelo salvo em: {modelo_path}\")\n",
    "\n",
    "except StopIteration:\n",
    "    print(\"Erro: Nenhum dado disponível para treino. Verifique as imagens no diretório.\")"
   ]
  }
 ],
 "metadata": {
  "kernelspec": {
   "display_name": "venv",
   "language": "python",
   "name": "venv"
  },
  "language_info": {
   "codemirror_mode": {
    "name": "ipython",
    "version": 3
   },
   "file_extension": ".py",
   "mimetype": "text/x-python",
   "name": "python",
   "nbconvert_exporter": "python",
   "pygments_lexer": "ipython3",
   "version": "3.11.9"
  }
 },
 "nbformat": 4,
 "nbformat_minor": 2
}
