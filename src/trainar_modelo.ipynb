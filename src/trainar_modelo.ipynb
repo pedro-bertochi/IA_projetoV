{
 "cells": [
  {
   "cell_type": "code",
   "execution_count": 17,
   "metadata": {},
   "outputs": [],
   "source": [
    "import os\n",
    "import numpy as np\n",
    "import tensorflow as tf\n",
    "from sklearn.model_selection import KFold\n",
    "from core import criar_modelo, ParImageGenerator\n",
    "from tensorflow.keras.callbacks import ModelCheckpoint, CSVLogger"
   ]
  },
  {
   "cell_type": "code",
   "execution_count": 18,
   "metadata": {},
   "outputs": [],
   "source": [
    "tf.config.run_functions_eagerly(True)\n",
    "\n",
    "os.makedirs('../model', exist_ok=True)\n",
    "os.makedirs('../results', exist_ok=True)"
   ]
  },
  {
   "cell_type": "code",
   "execution_count": 19,
   "metadata": {},
   "outputs": [],
   "source": [
    "# ============================\n",
    "# 🔁 Carregar todos os dados\n",
    "# ============================\n",
    "gen_temporario = ParImageGenerator('../image/treinamento', batch_size=1, augmentacao=False)\n",
    "dados = list(zip(gen_temporario.imagens, gen_temporario.labels))  # manter como lista"
   ]
  },
  {
   "cell_type": "code",
   "execution_count": 20,
   "metadata": {},
   "outputs": [],
   "source": [
    "# ============================\n",
    "# 🔁 K-Fold Cross-Validation\n",
    "# ============================\n",
    "kf = KFold(n_splits=5, shuffle=True, random_state=42)"
   ]
  },
  {
   "cell_type": "code",
   "execution_count": null,
   "metadata": {},
   "outputs": [],
   "source": [
    "fold = 1\n",
    "accuracies = []\n",
    "losses = []\n",
    "\n",
    "log_path = '../results/cv_info.txt'\n",
    "with open(log_path, 'w') as log_file:\n",
    "\n",
    "    for train_idx, val_idx in kf.split(dados):\n",
    "        log_file.write(f\"[Fold {fold}]\\n\")\n",
    "        log_file.write(f\"Treino: {list(train_idx)}\\n\")\n",
    "        log_file.write(f\"Validação: {list(val_idx)}\\n\\n\")\n",
    "\n",
    "        print(f\"\\n🌀 Treinando Fold {fold}...\")\n",
    "\n",
    "        train_data = [dados[i] for i in train_idx]\n",
    "        val_data = [dados[i] for i in val_idx]\n",
    "\n",
    "        train_gen = ParImageGenerator(dados=train_data, batch_size=8, augmentacao=True)\n",
    "        val_gen = ParImageGenerator(dados=val_data, batch_size=8, augmentacao=False)\n",
    "\n",
    "        modelo = criar_modelo()\n",
    "        modelo.compile(optimizer=tf.keras.optimizers.Adam(),\n",
    "                        loss='binary_crossentropy',\n",
    "                        metrics=['accuracy'])\n",
    "\n",
    "        checkpoint = ModelCheckpoint(\n",
    "            filepath=f'../model/melhor_modelo_fold{fold}.h5',\n",
    "            monitor='val_accuracy',\n",
    "            save_best_only=True, # salva o melhor modelo\n",
    "            verbose=1\n",
    "        )\n",
    "\n",
    "        logger = CSVLogger(f'../results/historico_treinamento_fold{fold}.csv', append=False)\n",
    "\n",
    "        modelo.fit(\n",
    "            train_gen,\n",
    "            validation_data=val_gen,\n",
    "            epochs=15,\n",
    "            # steps_per_epoch=len(train_gen),\n",
    "            steps_per_epoch=2,\n",
    "            callbacks=[checkpoint, logger],\n",
    "            verbose=1\n",
    "        )\n",
    "\n",
    "        loss, accuracy = modelo.evaluate(val_gen, verbose=1)\n",
    "        print(f\"📊 [Fold {fold}] Loss: {loss:.4f}, Accuracy: {accuracy:.4f}\")\n",
    "\n",
    "        accuracies.append(accuracy)\n",
    "        losses.append(loss)\n",
    "        fold += 1"
   ]
  },
  {
   "cell_type": "code",
   "execution_count": 22,
   "metadata": {},
   "outputs": [],
   "source": [
    "# ============================\n",
    "# 📈 Resultados finais\n",
    "# ============================\n",
    "media_acc = np.mean(accuracies)\n",
    "media_loss = np.mean(losses)"
   ]
  },
  {
   "cell_type": "code",
   "execution_count": 23,
   "metadata": {},
   "outputs": [
    {
     "name": "stdout",
     "output_type": "stream",
     "text": [
      "\n",
      "✅ Cross-validation finalizada!\n",
      "📉 Média da Loss: 120635.5401\n",
      "✅ Média da Accuracy: 0.4286\n"
     ]
    }
   ],
   "source": [
    "print(f\"\\n✅ Cross-validation finalizada!\")\n",
    "print(f\"📉 Média da Loss: {media_loss:.4f}\")\n",
    "print(f\"✅ Média da Accuracy: {media_acc:.4f}\")"
   ]
  },
  {
   "cell_type": "code",
   "execution_count": 24,
   "metadata": {},
   "outputs": [],
   "source": [
    "# Salvar resumo no log\n",
    "with open(log_path, 'a') as log_file:\n",
    "    log_file.write(\"=== Resultado Final ===\\n\")\n",
    "    log_file.write(f\"Média da Loss: {media_loss:.4f}\\n\")\n",
    "    log_file.write(f\"Média da Accuracy: {media_acc:.4f}\\n\")"
   ]
  }
 ],
 "metadata": {
  "kernelspec": {
   "display_name": "venv",
   "language": "python",
   "name": "venv"
  },
  "language_info": {
   "codemirror_mode": {
    "name": "ipython",
    "version": 3
   },
   "file_extension": ".py",
   "mimetype": "text/x-python",
   "name": "python",
   "nbconvert_exporter": "python",
   "pygments_lexer": "ipython3",
   "version": "3.11.9"
  }
 },
 "nbformat": 4,
 "nbformat_minor": 2
}
