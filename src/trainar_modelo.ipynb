{
 "cells": [
  {
   "cell_type": "code",
   "execution_count": null,
   "metadata": {},
   "outputs": [],
   "source": [
    "import os\n",
    "from src.core import criar_modelo, ParImageGenerator"
   ]
  },
  {
   "cell_type": "code",
   "execution_count": null,
   "metadata": {},
   "outputs": [],
   "source": [
    "os.makedirs('../model', exist_ok=True)\n",
    "\n",
    "modelo = criar_modelo()\n",
    "train_gen = ParImageGenerator('../image/treino', batch_size=8)\n",
    "modelo.fit(train_gen, epochs=10)\n",
    "modelo.save('../model/modelo_solda_resnet50.h5')\n"
   ]
  }
 ],
 "metadata": {
  "language_info": {
   "name": "python"
  }
 },
 "nbformat": 4,
 "nbformat_minor": 2
}
