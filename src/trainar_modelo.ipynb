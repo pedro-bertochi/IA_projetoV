{
 "cells": [
  {
   "cell_type": "code",
   "execution_count": 17,
   "metadata": {},
   "outputs": [],
   "source": [
    "import os\n",
    "import numpy as np\n",
    "import tensorflow as tf\n",
    "from sklearn.model_selection import KFold\n",
    "from core import criar_modelo, ParImageGenerator\n",
    "from tensorflow.keras.callbacks import ModelCheckpoint, CSVLogger"
   ]
  },
  {
   "cell_type": "code",
   "execution_count": 18,
   "metadata": {},
   "outputs": [],
   "source": [
    "tf.config.run_functions_eagerly(True)\n",
    "\n",
    "os.makedirs('../model', exist_ok=True)\n",
    "os.makedirs('../results', exist_ok=True)"
   ]
  },
  {
   "cell_type": "code",
   "execution_count": 19,
   "metadata": {},
   "outputs": [],
   "source": [
    "# ============================\n",
    "# 🔁 Carregar todos os dados\n",
    "# ============================\n",
    "gen_temporario = ParImageGenerator('../image/treinamento', batch_size=1, augmentacao=False)\n",
    "dados = list(zip(gen_temporario.imagens, gen_temporario.labels))  # manter como lista"
   ]
  },
  {
   "cell_type": "code",
   "execution_count": 20,
   "metadata": {},
   "outputs": [],
   "source": [
    "# ============================\n",
    "# 🔁 K-Fold Cross-Validation\n",
    "# ============================\n",
    "kf = KFold(n_splits=5, shuffle=True, random_state=42)"
   ]
  },
  {
   "cell_type": "code",
   "execution_count": 21,
   "metadata": {},
   "outputs": [
    {
     "name": "stdout",
     "output_type": "stream",
     "text": [
      "\n",
      "🌀 Treinando Fold 1...\n"
     ]
    },
    {
     "name": "stderr",
     "output_type": "stream",
     "text": [
      "c:\\Users\\finan\\OneDrive - Nimofast Brasil SA\\Área de Trabalho\\cod\\python\\AI\\venv\\Lib\\site-packages\\keras\\src\\trainers\\data_adapters\\py_dataset_adapter.py:121: UserWarning: Your `PyDataset` class should call `super().__init__(**kwargs)` in its constructor. `**kwargs` can include `workers`, `use_multiprocessing`, `max_queue_size`. Do not pass these arguments to `fit()`, as they will be ignored.\n",
      "  self._warn_if_super_not_called()\n",
      "c:\\Users\\finan\\OneDrive - Nimofast Brasil SA\\Área de Trabalho\\cod\\python\\AI\\venv\\Lib\\site-packages\\tensorflow\\python\\data\\ops\\structured_function.py:258: UserWarning: Even though the `tf.config.experimental_run_functions_eagerly` option is set, this option does not apply to tf.data functions. To force eager execution of tf.data functions, please use `tf.data.experimental.enable_debug_mode()`.\n",
      "  warnings.warn(\n"
     ]
    },
    {
     "name": "stdout",
     "output_type": "stream",
     "text": [
      "Epoch 1/15\n",
      "\u001b[1m2/2\u001b[0m \u001b[32m━━━━━━━━━━━━━━━━━━━━\u001b[0m\u001b[37m\u001b[0m \u001b[1m0s\u001b[0m 6s/step - accuracy: 0.9688 - loss: 0.5060\n",
      "Epoch 1: val_accuracy improved from -inf to 0.81250, saving model to ../model/melhor_modelo_fold1.h5\n"
     ]
    },
    {
     "name": "stderr",
     "output_type": "stream",
     "text": [
      "WARNING:absl:You are saving your model as an HDF5 file via `model.save()` or `keras.saving.save_model(model)`. This file format is considered legacy. We recommend using instead the native Keras format, e.g. `model.save('my_model.keras')` or `keras.saving.save_model(model, 'my_model.keras')`. \n"
     ]
    },
    {
     "name": "stdout",
     "output_type": "stream",
     "text": [
      "\u001b[1m2/2\u001b[0m \u001b[32m━━━━━━━━━━━━━━━━━━━━\u001b[0m\u001b[37m\u001b[0m \u001b[1m43s\u001b[0m 36s/step - accuracy: 0.9583 - loss: 0.5339 - val_accuracy: 0.8125 - val_loss: 6.1204\n",
      "Epoch 2/15\n",
      "\u001b[1m2/2\u001b[0m \u001b[32m━━━━━━━━━━━━━━━━━━━━\u001b[0m\u001b[37m\u001b[0m \u001b[1m0s\u001b[0m 13s/step - accuracy: 0.8750 - loss: 0.6695 \n",
      "Epoch 2: val_accuracy did not improve from 0.81250\n",
      "\u001b[1m2/2\u001b[0m \u001b[32m━━━━━━━━━━━━━━━━━━━━\u001b[0m\u001b[37m\u001b[0m \u001b[1m63s\u001b[0m 49s/step - accuracy: 0.8750 - loss: 0.6984 - val_accuracy: 0.8036 - val_loss: 1187.7991\n",
      "Epoch 3/15\n",
      "\u001b[1m2/2\u001b[0m \u001b[32m━━━━━━━━━━━━━━━━━━━━\u001b[0m\u001b[37m\u001b[0m \u001b[1m0s\u001b[0m 12s/step - accuracy: 0.9062 - loss: 0.2736 \n",
      "Epoch 3: val_accuracy did not improve from 0.81250\n",
      "\u001b[1m2/2\u001b[0m \u001b[32m━━━━━━━━━━━━━━━━━━━━\u001b[0m\u001b[37m\u001b[0m \u001b[1m61s\u001b[0m 49s/step - accuracy: 0.9167 - loss: 0.2740 - val_accuracy: 0.8125 - val_loss: 6975.3721\n",
      "Epoch 4/15\n",
      "\u001b[1m2/2\u001b[0m \u001b[32m━━━━━━━━━━━━━━━━━━━━\u001b[0m\u001b[37m\u001b[0m \u001b[1m0s\u001b[0m 12s/step - accuracy: 0.7188 - loss: 1.6863 \n",
      "Epoch 4: val_accuracy improved from 0.81250 to 0.82143, saving model to ../model/melhor_modelo_fold1.h5\n"
     ]
    },
    {
     "name": "stderr",
     "output_type": "stream",
     "text": [
      "WARNING:absl:You are saving your model as an HDF5 file via `model.save()` or `keras.saving.save_model(model)`. This file format is considered legacy. We recommend using instead the native Keras format, e.g. `model.save('my_model.keras')` or `keras.saving.save_model(model, 'my_model.keras')`. \n"
     ]
    },
    {
     "name": "stdout",
     "output_type": "stream",
     "text": [
      "\u001b[1m2/2\u001b[0m \u001b[32m━━━━━━━━━━━━━━━━━━━━\u001b[0m\u001b[37m\u001b[0m \u001b[1m78s\u001b[0m 66s/step - accuracy: 0.7083 - loss: 1.7407 - val_accuracy: 0.8214 - val_loss: 59.5401\n",
      "Epoch 5/15\n",
      "\u001b[1m2/2\u001b[0m \u001b[32m━━━━━━━━━━━━━━━━━━━━\u001b[0m\u001b[37m\u001b[0m \u001b[1m0s\u001b[0m 12s/step - accuracy: 0.7188 - loss: 0.4361 \n",
      "Epoch 5: val_accuracy did not improve from 0.82143\n",
      "\u001b[1m2/2\u001b[0m \u001b[32m━━━━━━━━━━━━━━━━━━━━\u001b[0m\u001b[37m\u001b[0m \u001b[1m61s\u001b[0m 49s/step - accuracy: 0.7083 - loss: 0.4577 - val_accuracy: 0.1964 - val_loss: 1103.2620\n",
      "Epoch 6/15\n",
      "\u001b[1m2/2\u001b[0m \u001b[32m━━━━━━━━━━━━━━━━━━━━\u001b[0m\u001b[37m\u001b[0m \u001b[1m0s\u001b[0m 12s/step - accuracy: 0.6562 - loss: 1.0706 \n",
      "Epoch 6: val_accuracy did not improve from 0.82143\n",
      "\u001b[1m2/2\u001b[0m \u001b[32m━━━━━━━━━━━━━━━━━━━━\u001b[0m\u001b[37m\u001b[0m \u001b[1m61s\u001b[0m 49s/step - accuracy: 0.6667 - loss: 1.0021 - val_accuracy: 0.1964 - val_loss: 1752.5912\n",
      "Epoch 7/15\n",
      "\u001b[1m2/2\u001b[0m \u001b[32m━━━━━━━━━━━━━━━━━━━━\u001b[0m\u001b[37m\u001b[0m \u001b[1m0s\u001b[0m 13s/step - accuracy: 0.6875 - loss: 0.5329 \n",
      "Epoch 7: val_accuracy did not improve from 0.82143\n",
      "\u001b[1m2/2\u001b[0m \u001b[32m━━━━━━━━━━━━━━━━━━━━\u001b[0m\u001b[37m\u001b[0m \u001b[1m65s\u001b[0m 51s/step - accuracy: 0.7083 - loss: 0.5191 - val_accuracy: 0.1964 - val_loss: 1460.2592\n",
      "Epoch 8/15\n",
      "\u001b[1m2/2\u001b[0m \u001b[32m━━━━━━━━━━━━━━━━━━━━\u001b[0m\u001b[37m\u001b[0m \u001b[1m0s\u001b[0m 12s/step - accuracy: 1.0000 - loss: 0.2868 \n",
      "Epoch 8: val_accuracy did not improve from 0.82143\n",
      "\u001b[1m2/2\u001b[0m \u001b[32m━━━━━━━━━━━━━━━━━━━━\u001b[0m\u001b[37m\u001b[0m \u001b[1m60s\u001b[0m 47s/step - accuracy: 1.0000 - loss: 0.2752 - val_accuracy: 0.1875 - val_loss: 60.8058\n",
      "Epoch 9/15\n",
      "\u001b[1m2/2\u001b[0m \u001b[32m━━━━━━━━━━━━━━━━━━━━\u001b[0m\u001b[37m\u001b[0m \u001b[1m0s\u001b[0m 13s/step - accuracy: 0.5938 - loss: 2.1978 \n",
      "Epoch 9: val_accuracy did not improve from 0.82143\n",
      "\u001b[1m2/2\u001b[0m \u001b[32m━━━━━━━━━━━━━━━━━━━━\u001b[0m\u001b[37m\u001b[0m \u001b[1m59s\u001b[0m 46s/step - accuracy: 0.6250 - loss: 1.9947 - val_accuracy: 0.8036 - val_loss: 697.2936\n",
      "Epoch 10/15\n",
      "\u001b[1m2/2\u001b[0m \u001b[32m━━━━━━━━━━━━━━━━━━━━\u001b[0m\u001b[37m\u001b[0m \u001b[1m0s\u001b[0m 7s/step - accuracy: 1.0000 - loss: 0.2274  \n",
      "Epoch 10: val_accuracy did not improve from 0.82143\n",
      "\u001b[1m2/2\u001b[0m \u001b[32m━━━━━━━━━━━━━━━━━━━━\u001b[0m\u001b[37m\u001b[0m \u001b[1m36s\u001b[0m 22s/step - accuracy: 1.0000 - loss: 0.2349 - val_accuracy: 0.8036 - val_loss: 8070.7173\n",
      "Epoch 11/15\n",
      "\u001b[1m2/2\u001b[0m \u001b[32m━━━━━━━━━━━━━━━━━━━━\u001b[0m\u001b[37m\u001b[0m \u001b[1m0s\u001b[0m 6s/step - accuracy: 0.7500 - loss: 0.3454\n",
      "Epoch 11: val_accuracy did not improve from 0.82143\n",
      "\u001b[1m2/2\u001b[0m \u001b[32m━━━━━━━━━━━━━━━━━━━━\u001b[0m\u001b[37m\u001b[0m \u001b[1m28s\u001b[0m 21s/step - accuracy: 0.7500 - loss: 0.3502 - val_accuracy: 0.8125 - val_loss: 26006.3633\n",
      "Epoch 12/15\n",
      "\u001b[1m2/2\u001b[0m \u001b[32m━━━━━━━━━━━━━━━━━━━━\u001b[0m\u001b[37m\u001b[0m \u001b[1m0s\u001b[0m 6s/step - accuracy: 0.8438 - loss: 0.3747\n",
      "Epoch 12: val_accuracy did not improve from 0.82143\n",
      "\u001b[1m2/2\u001b[0m \u001b[32m━━━━━━━━━━━━━━━━━━━━\u001b[0m\u001b[37m\u001b[0m \u001b[1m31s\u001b[0m 25s/step - accuracy: 0.8333 - loss: 0.4482 - val_accuracy: 0.8125 - val_loss: 27333.7246\n",
      "Epoch 13/15\n",
      "\u001b[1m2/2\u001b[0m \u001b[32m━━━━━━━━━━━━━━━━━━━━\u001b[0m\u001b[37m\u001b[0m \u001b[1m0s\u001b[0m 9s/step - accuracy: 0.9062 - loss: 0.2099  \n",
      "Epoch 13: val_accuracy did not improve from 0.82143\n",
      "\u001b[1m2/2\u001b[0m \u001b[32m━━━━━━━━━━━━━━━━━━━━\u001b[0m\u001b[37m\u001b[0m \u001b[1m36s\u001b[0m 26s/step - accuracy: 0.9167 - loss: 0.1982 - val_accuracy: 0.8036 - val_loss: 27416.4258\n",
      "Epoch 14/15\n",
      "\u001b[1m2/2\u001b[0m \u001b[32m━━━━━━━━━━━━━━━━━━━━\u001b[0m\u001b[37m\u001b[0m \u001b[1m0s\u001b[0m 6s/step - accuracy: 0.5938 - loss: 1.9103\n",
      "Epoch 14: val_accuracy did not improve from 0.82143\n",
      "\u001b[1m2/2\u001b[0m \u001b[32m━━━━━━━━━━━━━━━━━━━━\u001b[0m\u001b[37m\u001b[0m \u001b[1m28s\u001b[0m 22s/step - accuracy: 0.6250 - loss: 1.7614 - val_accuracy: 0.1964 - val_loss: 35964.8008\n",
      "Epoch 15/15\n",
      "\u001b[1m2/2\u001b[0m \u001b[32m━━━━━━━━━━━━━━━━━━━━\u001b[0m\u001b[37m\u001b[0m \u001b[1m0s\u001b[0m 8s/step - accuracy: 0.8125 - loss: 0.5988\n",
      "Epoch 15: val_accuracy did not improve from 0.82143\n",
      "\u001b[1m2/2\u001b[0m \u001b[32m━━━━━━━━━━━━━━━━━━━━\u001b[0m\u001b[37m\u001b[0m \u001b[1m42s\u001b[0m 33s/step - accuracy: 0.8333 - loss: 0.5673 - val_accuracy: 0.1964 - val_loss: 63233.7227\n",
      "\u001b[1m14/14\u001b[0m \u001b[32m━━━━━━━━━━━━━━━━━━━━\u001b[0m\u001b[37m\u001b[0m \u001b[1m16s\u001b[0m 1s/step - accuracy: 0.1905 - loss: 63672.4375\n",
      "📊 [Fold 1] Loss: 63211.7109, Accuracy: 0.1964\n",
      "\n",
      "🌀 Treinando Fold 2...\n",
      "Epoch 1/15\n",
      "\u001b[1m2/2\u001b[0m \u001b[32m━━━━━━━━━━━━━━━━━━━━\u001b[0m\u001b[37m\u001b[0m \u001b[1m0s\u001b[0m 6s/step - accuracy: 0.7188 - loss: 0.6642\n",
      "Epoch 1: val_accuracy improved from -inf to 0.16071, saving model to ../model/melhor_modelo_fold2.h5\n"
     ]
    },
    {
     "name": "stderr",
     "output_type": "stream",
     "text": [
      "WARNING:absl:You are saving your model as an HDF5 file via `model.save()` or `keras.saving.save_model(model)`. This file format is considered legacy. We recommend using instead the native Keras format, e.g. `model.save('my_model.keras')` or `keras.saving.save_model(model, 'my_model.keras')`. \n"
     ]
    },
    {
     "name": "stdout",
     "output_type": "stream",
     "text": [
      "\u001b[1m2/2\u001b[0m \u001b[32m━━━━━━━━━━━━━━━━━━━━\u001b[0m\u001b[37m\u001b[0m \u001b[1m38s\u001b[0m 31s/step - accuracy: 0.7500 - loss: 0.6318 - val_accuracy: 0.1607 - val_loss: 0.7562\n",
      "Epoch 2/15\n",
      "\u001b[1m2/2\u001b[0m \u001b[32m━━━━━━━━━━━━━━━━━━━━\u001b[0m\u001b[37m\u001b[0m \u001b[1m0s\u001b[0m 10s/step - accuracy: 1.0000 - loss: 0.1717 \n",
      "Epoch 2: val_accuracy improved from 0.16071 to 0.84821, saving model to ../model/melhor_modelo_fold2.h5\n"
     ]
    },
    {
     "name": "stderr",
     "output_type": "stream",
     "text": [
      "WARNING:absl:You are saving your model as an HDF5 file via `model.save()` or `keras.saving.save_model(model)`. This file format is considered legacy. We recommend using instead the native Keras format, e.g. `model.save('my_model.keras')` or `keras.saving.save_model(model, 'my_model.keras')`. \n"
     ]
    },
    {
     "name": "stdout",
     "output_type": "stream",
     "text": [
      "\u001b[1m2/2\u001b[0m \u001b[32m━━━━━━━━━━━━━━━━━━━━\u001b[0m\u001b[37m\u001b[0m \u001b[1m38s\u001b[0m 26s/step - accuracy: 1.0000 - loss: 0.1645 - val_accuracy: 0.8482 - val_loss: 11.7958\n",
      "Epoch 3/15\n",
      "\u001b[1m2/2\u001b[0m \u001b[32m━━━━━━━━━━━━━━━━━━━━\u001b[0m\u001b[37m\u001b[0m \u001b[1m0s\u001b[0m 5s/step - accuracy: 0.8750 - loss: 0.2811\n",
      "Epoch 3: val_accuracy did not improve from 0.84821\n",
      "\u001b[1m2/2\u001b[0m \u001b[32m━━━━━━━━━━━━━━━━━━━━\u001b[0m\u001b[37m\u001b[0m \u001b[1m26s\u001b[0m 20s/step - accuracy: 0.8750 - loss: 0.2943 - val_accuracy: 0.8393 - val_loss: 219.6097\n",
      "Epoch 4/15\n",
      "\u001b[1m2/2\u001b[0m \u001b[32m━━━━━━━━━━━━━━━━━━━━\u001b[0m\u001b[37m\u001b[0m \u001b[1m0s\u001b[0m 8s/step - accuracy: 1.0000 - loss: 0.0744\n",
      "Epoch 4: val_accuracy did not improve from 0.84821\n",
      "\u001b[1m2/2\u001b[0m \u001b[32m━━━━━━━━━━━━━━━━━━━━\u001b[0m\u001b[37m\u001b[0m \u001b[1m40s\u001b[0m 34s/step - accuracy: 1.0000 - loss: 0.0758 - val_accuracy: 0.8393 - val_loss: 1273.7054\n",
      "Epoch 5/15\n",
      "\u001b[1m2/2\u001b[0m \u001b[32m━━━━━━━━━━━━━━━━━━━━\u001b[0m\u001b[37m\u001b[0m \u001b[1m0s\u001b[0m 5s/step - accuracy: 0.8750 - loss: 0.1908\n",
      "Epoch 5: val_accuracy did not improve from 0.84821\n",
      "\u001b[1m2/2\u001b[0m \u001b[32m━━━━━━━━━━━━━━━━━━━━\u001b[0m\u001b[37m\u001b[0m \u001b[1m26s\u001b[0m 20s/step - accuracy: 0.8750 - loss: 0.1861 - val_accuracy: 0.8393 - val_loss: 1503.1849\n",
      "Epoch 6/15\n",
      "\u001b[1m2/2\u001b[0m \u001b[32m━━━━━━━━━━━━━━━━━━━━\u001b[0m\u001b[37m\u001b[0m \u001b[1m0s\u001b[0m 6s/step - accuracy: 0.7812 - loss: 2.5760\n",
      "Epoch 6: val_accuracy did not improve from 0.84821\n",
      "\u001b[1m2/2\u001b[0m \u001b[32m━━━━━━━━━━━━━━━━━━━━\u001b[0m\u001b[37m\u001b[0m \u001b[1m54s\u001b[0m 48s/step - accuracy: 0.7917 - loss: 2.4782 - val_accuracy: 0.8393 - val_loss: 89281.1406\n",
      "Epoch 7/15\n",
      "\u001b[1m2/2\u001b[0m \u001b[32m━━━━━━━━━━━━━━━━━━━━\u001b[0m\u001b[37m\u001b[0m \u001b[1m0s\u001b[0m 12s/step - accuracy: 0.9375 - loss: 0.1776 \n",
      "Epoch 7: val_accuracy did not improve from 0.84821\n",
      "\u001b[1m2/2\u001b[0m \u001b[32m━━━━━━━━━━━━━━━━━━━━\u001b[0m\u001b[37m\u001b[0m \u001b[1m63s\u001b[0m 51s/step - accuracy: 0.9167 - loss: 0.2168 - val_accuracy: 0.8482 - val_loss: 221766.6406\n",
      "Epoch 8/15\n",
      "\u001b[1m2/2\u001b[0m \u001b[32m━━━━━━━━━━━━━━━━━━━━\u001b[0m\u001b[37m\u001b[0m \u001b[1m0s\u001b[0m 12s/step - accuracy: 0.9062 - loss: 0.1763 \n",
      "Epoch 8: val_accuracy did not improve from 0.84821\n",
      "\u001b[1m2/2\u001b[0m \u001b[32m━━━━━━━━━━━━━━━━━━━━\u001b[0m\u001b[37m\u001b[0m \u001b[1m66s\u001b[0m 54s/step - accuracy: 0.9167 - loss: 0.1872 - val_accuracy: 0.8393 - val_loss: 89153.1250\n",
      "Epoch 9/15\n",
      "\u001b[1m2/2\u001b[0m \u001b[32m━━━━━━━━━━━━━━━━━━━━\u001b[0m\u001b[37m\u001b[0m \u001b[1m0s\u001b[0m 13s/step - accuracy: 0.7500 - loss: 0.3905 \n",
      "Epoch 9: val_accuracy did not improve from 0.84821\n",
      "\u001b[1m2/2\u001b[0m \u001b[32m━━━━━━━━━━━━━━━━━━━━\u001b[0m\u001b[37m\u001b[0m \u001b[1m72s\u001b[0m 58s/step - accuracy: 0.7500 - loss: 0.3865 - val_accuracy: 0.8482 - val_loss: 84365.2422\n",
      "Epoch 10/15\n",
      "\u001b[1m2/2\u001b[0m \u001b[32m━━━━━━━━━━━━━━━━━━━━\u001b[0m\u001b[37m\u001b[0m \u001b[1m0s\u001b[0m 15s/step - accuracy: 0.9062 - loss: 0.8048 \n",
      "Epoch 10: val_accuracy did not improve from 0.84821\n",
      "\u001b[1m2/2\u001b[0m \u001b[32m━━━━━━━━━━━━━━━━━━━━\u001b[0m\u001b[37m\u001b[0m \u001b[1m74s\u001b[0m 60s/step - accuracy: 0.8750 - loss: 0.9767 - val_accuracy: 0.8393 - val_loss: 60424.6055\n",
      "Epoch 11/15\n",
      "\u001b[1m2/2\u001b[0m \u001b[32m━━━━━━━━━━━━━━━━━━━━\u001b[0m\u001b[37m\u001b[0m \u001b[1m0s\u001b[0m 13s/step - accuracy: 0.9062 - loss: 0.2613 \n",
      "Epoch 11: val_accuracy did not improve from 0.84821\n",
      "\u001b[1m2/2\u001b[0m \u001b[32m━━━━━━━━━━━━━━━━━━━━\u001b[0m\u001b[37m\u001b[0m \u001b[1m58s\u001b[0m 44s/step - accuracy: 0.9167 - loss: 0.2606 - val_accuracy: 0.1607 - val_loss: 205094.4219\n",
      "Epoch 12/15\n",
      "\u001b[1m2/2\u001b[0m \u001b[32m━━━━━━━━━━━━━━━━━━━━\u001b[0m\u001b[37m\u001b[0m \u001b[1m0s\u001b[0m 5s/step - accuracy: 0.9062 - loss: 0.2458\n",
      "Epoch 12: val_accuracy did not improve from 0.84821\n",
      "\u001b[1m2/2\u001b[0m \u001b[32m━━━━━━━━━━━━━━━━━━━━\u001b[0m\u001b[37m\u001b[0m \u001b[1m26s\u001b[0m 20s/step - accuracy: 0.9167 - loss: 0.2479 - val_accuracy: 0.1518 - val_loss: 159001.1719\n",
      "Epoch 13/15\n",
      "\u001b[1m2/2\u001b[0m \u001b[32m━━━━━━━━━━━━━━━━━━━━\u001b[0m\u001b[37m\u001b[0m \u001b[1m0s\u001b[0m 5s/step - accuracy: 0.9375 - loss: 0.2517\n",
      "Epoch 13: val_accuracy did not improve from 0.84821\n",
      "\u001b[1m2/2\u001b[0m \u001b[32m━━━━━━━━━━━━━━━━━━━━\u001b[0m\u001b[37m\u001b[0m \u001b[1m27s\u001b[0m 21s/step - accuracy: 0.9167 - loss: 0.2710 - val_accuracy: 0.1518 - val_loss: 3206.9058\n",
      "Epoch 14/15\n",
      "\u001b[1m2/2\u001b[0m \u001b[32m━━━━━━━━━━━━━━━━━━━━\u001b[0m\u001b[37m\u001b[0m \u001b[1m0s\u001b[0m 14s/step - accuracy: 0.6562 - loss: 1.5036\n",
      "Epoch 14: val_accuracy did not improve from 0.84821\n",
      "\u001b[1m2/2\u001b[0m \u001b[32m━━━━━━━━━━━━━━━━━━━━\u001b[0m\u001b[37m\u001b[0m \u001b[1m44s\u001b[0m 36s/step - accuracy: 0.6667 - loss: 1.4389 - val_accuracy: 0.8393 - val_loss: 696.8311\n",
      "Epoch 15/15\n",
      "\u001b[1m2/2\u001b[0m \u001b[32m━━━━━━━━━━━━━━━━━━━━\u001b[0m\u001b[37m\u001b[0m \u001b[1m0s\u001b[0m 6s/step - accuracy: 0.7500 - loss: 0.4250\n",
      "Epoch 15: val_accuracy did not improve from 0.84821\n",
      "\u001b[1m2/2\u001b[0m \u001b[32m━━━━━━━━━━━━━━━━━━━━\u001b[0m\u001b[37m\u001b[0m \u001b[1m35s\u001b[0m 29s/step - accuracy: 0.7500 - loss: 0.4268 - val_accuracy: 0.8393 - val_loss: 392.9568\n",
      "\u001b[1m14/14\u001b[0m \u001b[32m━━━━━━━━━━━━━━━━━━━━\u001b[0m\u001b[37m\u001b[0m \u001b[1m33s\u001b[0m 2s/step - accuracy: 0.7460 - loss: 615.7501\n",
      "📊 [Fold 2] Loss: 392.9568, Accuracy: 0.8393\n",
      "\n",
      "🌀 Treinando Fold 3...\n",
      "Epoch 1/15\n",
      "\u001b[1m2/2\u001b[0m \u001b[32m━━━━━━━━━━━━━━━━━━━━\u001b[0m\u001b[37m\u001b[0m \u001b[1m0s\u001b[0m 6s/step - accuracy: 0.4062 - loss: 0.8758\n",
      "Epoch 1: val_accuracy improved from -inf to 0.87500, saving model to ../model/melhor_modelo_fold3.h5\n"
     ]
    },
    {
     "name": "stderr",
     "output_type": "stream",
     "text": [
      "WARNING:absl:You are saving your model as an HDF5 file via `model.save()` or `keras.saving.save_model(model)`. This file format is considered legacy. We recommend using instead the native Keras format, e.g. `model.save('my_model.keras')` or `keras.saving.save_model(model, 'my_model.keras')`. \n"
     ]
    },
    {
     "name": "stdout",
     "output_type": "stream",
     "text": [
      "\u001b[1m2/2\u001b[0m \u001b[32m━━━━━━━━━━━━━━━━━━━━\u001b[0m\u001b[37m\u001b[0m \u001b[1m33s\u001b[0m 26s/step - accuracy: 0.4583 - loss: 0.8378 - val_accuracy: 0.8750 - val_loss: 1.4543\n",
      "Epoch 2/15\n",
      "\u001b[1m2/2\u001b[0m \u001b[32m━━━━━━━━━━━━━━━━━━━━\u001b[0m\u001b[37m\u001b[0m \u001b[1m0s\u001b[0m 12s/step - accuracy: 1.0000 - loss: 0.0065 \n",
      "Epoch 2: val_accuracy did not improve from 0.87500\n",
      "\u001b[1m2/2\u001b[0m \u001b[32m━━━━━━━━━━━━━━━━━━━━\u001b[0m\u001b[37m\u001b[0m \u001b[1m61s\u001b[0m 49s/step - accuracy: 1.0000 - loss: 0.0061 - val_accuracy: 0.8661 - val_loss: 23.5412\n",
      "Epoch 3/15\n",
      "\u001b[1m2/2\u001b[0m \u001b[32m━━━━━━━━━━━━━━━━━━━━\u001b[0m\u001b[37m\u001b[0m \u001b[1m0s\u001b[0m 11s/step - accuracy: 0.8125 - loss: 0.8247 \n",
      "Epoch 3: val_accuracy did not improve from 0.87500\n",
      "\u001b[1m2/2\u001b[0m \u001b[32m━━━━━━━━━━━━━━━━━━━━\u001b[0m\u001b[37m\u001b[0m \u001b[1m58s\u001b[0m 47s/step - accuracy: 0.7917 - loss: 0.8694 - val_accuracy: 0.8750 - val_loss: 38.4345\n",
      "Epoch 4/15\n",
      "\u001b[1m2/2\u001b[0m \u001b[32m━━━━━━━━━━━━━━━━━━━━\u001b[0m\u001b[37m\u001b[0m \u001b[1m0s\u001b[0m 11s/step - accuracy: 0.9062 - loss: 0.1861 \n",
      "Epoch 4: val_accuracy improved from 0.87500 to 0.88393, saving model to ../model/melhor_modelo_fold3.h5\n"
     ]
    },
    {
     "name": "stderr",
     "output_type": "stream",
     "text": [
      "WARNING:absl:You are saving your model as an HDF5 file via `model.save()` or `keras.saving.save_model(model)`. This file format is considered legacy. We recommend using instead the native Keras format, e.g. `model.save('my_model.keras')` or `keras.saving.save_model(model, 'my_model.keras')`. \n"
     ]
    },
    {
     "name": "stdout",
     "output_type": "stream",
     "text": [
      "\u001b[1m2/2\u001b[0m \u001b[32m━━━━━━━━━━━━━━━━━━━━\u001b[0m\u001b[37m\u001b[0m \u001b[1m59s\u001b[0m 48s/step - accuracy: 0.9167 - loss: 0.1863 - val_accuracy: 0.8839 - val_loss: 428.7019\n",
      "Epoch 5/15\n",
      "\u001b[1m2/2\u001b[0m \u001b[32m━━━━━━━━━━━━━━━━━━━━\u001b[0m\u001b[37m\u001b[0m \u001b[1m0s\u001b[0m 12s/step - accuracy: 0.8750 - loss: 0.2820 \n",
      "Epoch 5: val_accuracy did not improve from 0.88393\n",
      "\u001b[1m2/2\u001b[0m \u001b[32m━━━━━━━━━━━━━━━━━━━━\u001b[0m\u001b[37m\u001b[0m \u001b[1m59s\u001b[0m 48s/step - accuracy: 0.8750 - loss: 0.2907 - val_accuracy: 0.8661 - val_loss: 48679.4961\n",
      "Epoch 6/15\n",
      "\u001b[1m2/2\u001b[0m \u001b[32m━━━━━━━━━━━━━━━━━━━━\u001b[0m\u001b[37m\u001b[0m \u001b[1m0s\u001b[0m 11s/step - accuracy: 0.8125 - loss: 0.5413 \n",
      "Epoch 6: val_accuracy did not improve from 0.88393\n",
      "\u001b[1m2/2\u001b[0m \u001b[32m━━━━━━━━━━━━━━━━━━━━\u001b[0m\u001b[37m\u001b[0m \u001b[1m59s\u001b[0m 47s/step - accuracy: 0.8333 - loss: 0.4930 - val_accuracy: 0.8661 - val_loss: 3252749.2500\n",
      "Epoch 7/15\n",
      "\u001b[1m2/2\u001b[0m \u001b[32m━━━━━━━━━━━━━━━━━━━━\u001b[0m\u001b[37m\u001b[0m \u001b[1m0s\u001b[0m 12s/step - accuracy: 0.6875 - loss: 1.6044 \n",
      "Epoch 7: val_accuracy did not improve from 0.88393\n",
      "\u001b[1m2/2\u001b[0m \u001b[32m━━━━━━━━━━━━━━━━━━━━\u001b[0m\u001b[37m\u001b[0m \u001b[1m64s\u001b[0m 53s/step - accuracy: 0.7083 - loss: 1.8005 - val_accuracy: 0.8661 - val_loss: 76009024.0000\n",
      "Epoch 8/15\n",
      "\u001b[1m2/2\u001b[0m \u001b[32m━━━━━━━━━━━━━━━━━━━━\u001b[0m\u001b[37m\u001b[0m \u001b[1m0s\u001b[0m 11s/step - accuracy: 0.8750 - loss: 0.3606 \n",
      "Epoch 8: val_accuracy did not improve from 0.88393\n",
      "\u001b[1m2/2\u001b[0m \u001b[32m━━━━━━━━━━━━━━━━━━━━\u001b[0m\u001b[37m\u001b[0m \u001b[1m67s\u001b[0m 56s/step - accuracy: 0.8750 - loss: 0.3670 - val_accuracy: 0.8661 - val_loss: 61023700.0000\n",
      "Epoch 9/15\n",
      "\u001b[1m2/2\u001b[0m \u001b[32m━━━━━━━━━━━━━━━━━━━━\u001b[0m\u001b[37m\u001b[0m \u001b[1m0s\u001b[0m 12s/step - accuracy: 0.9375 - loss: 1.6488 \n",
      "Epoch 9: val_accuracy did not improve from 0.88393\n",
      "\u001b[1m2/2\u001b[0m \u001b[32m━━━━━━━━━━━━━━━━━━━━\u001b[0m\u001b[37m\u001b[0m \u001b[1m59s\u001b[0m 48s/step - accuracy: 0.9167 - loss: 2.1108 - val_accuracy: 0.8661 - val_loss: 6931328.5000\n",
      "Epoch 10/15\n",
      "\u001b[1m2/2\u001b[0m \u001b[32m━━━━━━━━━━━━━━━━━━━━\u001b[0m\u001b[37m\u001b[0m \u001b[1m0s\u001b[0m 11s/step - accuracy: 0.9062 - loss: 0.7971 \n",
      "Epoch 10: val_accuracy did not improve from 0.88393\n",
      "\u001b[1m2/2\u001b[0m \u001b[32m━━━━━━━━━━━━━━━━━━━━\u001b[0m\u001b[37m\u001b[0m \u001b[1m47s\u001b[0m 28s/step - accuracy: 0.9167 - loss: 0.7420 - val_accuracy: 0.8750 - val_loss: 179765.4531\n",
      "Epoch 11/15\n",
      "\u001b[1m2/2\u001b[0m \u001b[32m━━━━━━━━━━━━━━━━━━━━\u001b[0m\u001b[37m\u001b[0m \u001b[1m0s\u001b[0m 6s/step - accuracy: 0.7500 - loss: 0.8940\n",
      "Epoch 11: val_accuracy did not improve from 0.88393\n",
      "\u001b[1m2/2\u001b[0m \u001b[32m━━━━━━━━━━━━━━━━━━━━\u001b[0m\u001b[37m\u001b[0m \u001b[1m27s\u001b[0m 21s/step - accuracy: 0.7500 - loss: 0.9298 - val_accuracy: 0.8661 - val_loss: 1658.6215\n",
      "Epoch 12/15\n",
      "\u001b[1m2/2\u001b[0m \u001b[32m━━━━━━━━━━━━━━━━━━━━\u001b[0m\u001b[37m\u001b[0m \u001b[1m0s\u001b[0m 7s/step - accuracy: 0.8750 - loss: 0.5280  \n",
      "Epoch 12: val_accuracy did not improve from 0.88393\n",
      "\u001b[1m2/2\u001b[0m \u001b[32m━━━━━━━━━━━━━━━━━━━━\u001b[0m\u001b[37m\u001b[0m \u001b[1m44s\u001b[0m 26s/step - accuracy: 0.8750 - loss: 0.5310 - val_accuracy: 0.1339 - val_loss: 624.5903\n",
      "Epoch 13/15\n",
      "\u001b[1m2/2\u001b[0m \u001b[32m━━━━━━━━━━━━━━━━━━━━\u001b[0m\u001b[37m\u001b[0m \u001b[1m0s\u001b[0m 5s/step - accuracy: 0.9062 - loss: 0.5330\n",
      "Epoch 13: val_accuracy did not improve from 0.88393\n",
      "\u001b[1m2/2\u001b[0m \u001b[32m━━━━━━━━━━━━━━━━━━━━\u001b[0m\u001b[37m\u001b[0m \u001b[1m35s\u001b[0m 30s/step - accuracy: 0.9167 - loss: 0.5294 - val_accuracy: 0.8661 - val_loss: 341.1717\n",
      "Epoch 14/15\n",
      "\u001b[1m2/2\u001b[0m \u001b[32m━━━━━━━━━━━━━━━━━━━━\u001b[0m\u001b[37m\u001b[0m \u001b[1m0s\u001b[0m 7s/step - accuracy: 0.7188 - loss: 0.5917\n",
      "Epoch 14: val_accuracy did not improve from 0.88393\n",
      "\u001b[1m2/2\u001b[0m \u001b[32m━━━━━━━━━━━━━━━━━━━━\u001b[0m\u001b[37m\u001b[0m \u001b[1m36s\u001b[0m 27s/step - accuracy: 0.7500 - loss: 0.5693 - val_accuracy: 0.8661 - val_loss: 1715.9883\n",
      "Epoch 15/15\n",
      "\u001b[1m2/2\u001b[0m \u001b[32m━━━━━━━━━━━━━━━━━━━━\u001b[0m\u001b[37m\u001b[0m \u001b[1m0s\u001b[0m 12s/step - accuracy: 0.9688 - loss: 0.3940\n",
      "Epoch 15: val_accuracy did not improve from 0.88393\n",
      "\u001b[1m2/2\u001b[0m \u001b[32m━━━━━━━━━━━━━━━━━━━━\u001b[0m\u001b[37m\u001b[0m \u001b[1m67s\u001b[0m 60s/step - accuracy: 0.9583 - loss: 0.3998 - val_accuracy: 0.8661 - val_loss: 3025.7913\n",
      "\u001b[1m14/14\u001b[0m \u001b[32m━━━━━━━━━━━━━━━━━━━━\u001b[0m\u001b[37m\u001b[0m \u001b[1m50s\u001b[0m 4s/step - accuracy: 0.8977 - loss: 2307.0051\n",
      "📊 [Fold 3] Loss: 3025.7913, Accuracy: 0.8661\n",
      "\n",
      "🌀 Treinando Fold 4...\n",
      "Epoch 1/15\n",
      "\u001b[1m2/2\u001b[0m \u001b[32m━━━━━━━━━━━━━━━━━━━━\u001b[0m\u001b[37m\u001b[0m \u001b[1m0s\u001b[0m 13s/step - accuracy: 0.4375 - loss: 0.6148 \n",
      "Epoch 1: val_accuracy improved from -inf to 0.89286, saving model to ../model/melhor_modelo_fold4.h5\n"
     ]
    },
    {
     "name": "stderr",
     "output_type": "stream",
     "text": [
      "WARNING:absl:You are saving your model as an HDF5 file via `model.save()` or `keras.saving.save_model(model)`. This file format is considered legacy. We recommend using instead the native Keras format, e.g. `model.save('my_model.keras')` or `keras.saving.save_model(model, 'my_model.keras')`. \n"
     ]
    },
    {
     "name": "stdout",
     "output_type": "stream",
     "text": [
      "\u001b[1m2/2\u001b[0m \u001b[32m━━━━━━━━━━━━━━━━━━━━\u001b[0m\u001b[37m\u001b[0m \u001b[1m91s\u001b[0m 72s/step - accuracy: 0.4583 - loss: 0.6031 - val_accuracy: 0.8929 - val_loss: 1.8478\n",
      "Epoch 2/15\n",
      "\u001b[1m2/2\u001b[0m \u001b[32m━━━━━━━━━━━━━━━━━━━━\u001b[0m\u001b[37m\u001b[0m \u001b[1m0s\u001b[0m 12s/step - accuracy: 0.9062 - loss: 0.3638 \n",
      "Epoch 2: val_accuracy did not improve from 0.89286\n",
      "\u001b[1m2/2\u001b[0m \u001b[32m━━━━━━━━━━━━━━━━━━━━\u001b[0m\u001b[37m\u001b[0m \u001b[1m80s\u001b[0m 66s/step - accuracy: 0.9167 - loss: 0.3399 - val_accuracy: 0.8839 - val_loss: 20.5896\n",
      "Epoch 3/15\n",
      "\u001b[1m2/2\u001b[0m \u001b[32m━━━━━━━━━━━━━━━━━━━━\u001b[0m\u001b[37m\u001b[0m \u001b[1m0s\u001b[0m 6s/step - accuracy: 0.9688 - loss: 0.1190\n",
      "Epoch 3: val_accuracy did not improve from 0.89286\n",
      "\u001b[1m2/2\u001b[0m \u001b[32m━━━━━━━━━━━━━━━━━━━━\u001b[0m\u001b[37m\u001b[0m \u001b[1m56s\u001b[0m 49s/step - accuracy: 0.9583 - loss: 0.1520 - val_accuracy: 0.8929 - val_loss: 211.1096\n",
      "Epoch 4/15\n",
      "\u001b[1m2/2\u001b[0m \u001b[32m━━━━━━━━━━━━━━━━━━━━\u001b[0m\u001b[37m\u001b[0m \u001b[1m0s\u001b[0m 15s/step - accuracy: 0.9688 - loss: 0.1964 \n",
      "Epoch 4: val_accuracy did not improve from 0.89286\n",
      "\u001b[1m2/2\u001b[0m \u001b[32m━━━━━━━━━━━━━━━━━━━━\u001b[0m\u001b[37m\u001b[0m \u001b[1m97s\u001b[0m 79s/step - accuracy: 0.9583 - loss: 0.2443 - val_accuracy: 0.8839 - val_loss: 438.8500\n",
      "Epoch 5/15\n",
      "\u001b[1m2/2\u001b[0m \u001b[32m━━━━━━━━━━━━━━━━━━━━\u001b[0m\u001b[37m\u001b[0m \u001b[1m0s\u001b[0m 20s/step - accuracy: 0.8438 - loss: 1.2544 \n",
      "Epoch 5: val_accuracy did not improve from 0.89286\n",
      "\u001b[1m2/2\u001b[0m \u001b[32m━━━━━━━━━━━━━━━━━━━━\u001b[0m\u001b[37m\u001b[0m \u001b[1m94s\u001b[0m 80s/step - accuracy: 0.8333 - loss: 1.1504 - val_accuracy: 0.8839 - val_loss: 21352.2324\n",
      "Epoch 6/15\n",
      "\u001b[1m2/2\u001b[0m \u001b[32m━━━━━━━━━━━━━━━━━━━━\u001b[0m\u001b[37m\u001b[0m \u001b[1m0s\u001b[0m 28s/step - accuracy: 1.0000 - loss: 0.1417 \n",
      "Epoch 6: val_accuracy did not improve from 0.89286\n",
      "\u001b[1m2/2\u001b[0m \u001b[32m━━━━━━━━━━━━━━━━━━━━\u001b[0m\u001b[37m\u001b[0m \u001b[1m104s\u001b[0m 86s/step - accuracy: 1.0000 - loss: 0.1469 - val_accuracy: 0.8929 - val_loss: 42241.9961\n",
      "Epoch 7/15\n",
      "\u001b[1m2/2\u001b[0m \u001b[32m━━━━━━━━━━━━━━━━━━━━\u001b[0m\u001b[37m\u001b[0m \u001b[1m0s\u001b[0m 13s/step - accuracy: 0.6250 - loss: 0.4706 \n",
      "Epoch 7: val_accuracy did not improve from 0.89286\n",
      "\u001b[1m2/2\u001b[0m \u001b[32m━━━━━━━━━━━━━━━━━━━━\u001b[0m\u001b[37m\u001b[0m \u001b[1m71s\u001b[0m 54s/step - accuracy: 0.6250 - loss: 0.4605 - val_accuracy: 0.8839 - val_loss: 67291.5000\n",
      "Epoch 8/15\n",
      "\u001b[1m2/2\u001b[0m \u001b[32m━━━━━━━━━━━━━━━━━━━━\u001b[0m\u001b[37m\u001b[0m \u001b[1m0s\u001b[0m 15s/step - accuracy: 0.8125 - loss: 1.1836 \n",
      "Epoch 8: val_accuracy did not improve from 0.89286\n",
      "\u001b[1m2/2\u001b[0m \u001b[32m━━━━━━━━━━━━━━━━━━━━\u001b[0m\u001b[37m\u001b[0m \u001b[1m126s\u001b[0m 97s/step - accuracy: 0.8333 - loss: 1.0817 - val_accuracy: 0.1161 - val_loss: 2003578.8750\n",
      "Epoch 9/15\n",
      "\u001b[1m2/2\u001b[0m \u001b[32m━━━━━━━━━━━━━━━━━━━━\u001b[0m\u001b[37m\u001b[0m \u001b[1m0s\u001b[0m 13s/step - accuracy: 0.8125 - loss: 0.4471 \n",
      "Epoch 9: val_accuracy did not improve from 0.89286\n",
      "\u001b[1m2/2\u001b[0m \u001b[32m━━━━━━━━━━━━━━━━━━━━\u001b[0m\u001b[37m\u001b[0m \u001b[1m76s\u001b[0m 63s/step - accuracy: 0.8333 - loss: 0.4185 - val_accuracy: 0.1161 - val_loss: 2209893.7500\n",
      "Epoch 10/15\n",
      "\u001b[1m2/2\u001b[0m \u001b[32m━━━━━━━━━━━━━━━━━━━━\u001b[0m\u001b[37m\u001b[0m \u001b[1m0s\u001b[0m 13s/step - accuracy: 0.7188 - loss: 0.6695 \n",
      "Epoch 10: val_accuracy did not improve from 0.89286\n",
      "\u001b[1m2/2\u001b[0m \u001b[32m━━━━━━━━━━━━━━━━━━━━\u001b[0m\u001b[37m\u001b[0m \u001b[1m81s\u001b[0m 68s/step - accuracy: 0.7083 - loss: 0.7345 - val_accuracy: 0.1161 - val_loss: 2798538.5000\n",
      "Epoch 11/15\n",
      "\u001b[1m2/2\u001b[0m \u001b[32m━━━━━━━━━━━━━━━━━━━━\u001b[0m\u001b[37m\u001b[0m \u001b[1m0s\u001b[0m 12s/step - accuracy: 0.7188 - loss: 0.3094 \n",
      "Epoch 11: val_accuracy did not improve from 0.89286\n",
      "\u001b[1m2/2\u001b[0m \u001b[32m━━━━━━━━━━━━━━━━━━━━\u001b[0m\u001b[37m\u001b[0m \u001b[1m81s\u001b[0m 68s/step - accuracy: 0.7083 - loss: 0.3283 - val_accuracy: 0.1161 - val_loss: 1385412.8750\n",
      "Epoch 12/15\n",
      "\u001b[1m2/2\u001b[0m \u001b[32m━━━━━━━━━━━━━━━━━━━━\u001b[0m\u001b[37m\u001b[0m \u001b[1m0s\u001b[0m 15s/step - accuracy: 0.8438 - loss: 0.4182 \n",
      "Epoch 12: val_accuracy did not improve from 0.89286\n",
      "\u001b[1m2/2\u001b[0m \u001b[32m━━━━━━━━━━━━━━━━━━━━\u001b[0m\u001b[37m\u001b[0m \u001b[1m92s\u001b[0m 77s/step - accuracy: 0.8333 - loss: 0.4197 - val_accuracy: 0.1071 - val_loss: 300346.0312\n",
      "Epoch 13/15\n",
      "\u001b[1m2/2\u001b[0m \u001b[32m━━━━━━━━━━━━━━━━━━━━\u001b[0m\u001b[37m\u001b[0m \u001b[1m0s\u001b[0m 15s/step - accuracy: 0.9688 - loss: 0.3900 \n",
      "Epoch 13: val_accuracy did not improve from 0.89286\n",
      "\u001b[1m2/2\u001b[0m \u001b[32m━━━━━━━━━━━━━━━━━━━━\u001b[0m\u001b[37m\u001b[0m \u001b[1m92s\u001b[0m 75s/step - accuracy: 0.9583 - loss: 0.3894 - val_accuracy: 0.1161 - val_loss: 42916.8398\n",
      "Epoch 14/15\n",
      "\u001b[1m2/2\u001b[0m \u001b[32m━━━━━━━━━━━━━━━━━━━━\u001b[0m\u001b[37m\u001b[0m \u001b[1m0s\u001b[0m 16s/step - accuracy: 0.9688 - loss: 0.4331 \n",
      "Epoch 14: val_accuracy did not improve from 0.89286\n",
      "\u001b[1m2/2\u001b[0m \u001b[32m━━━━━━━━━━━━━━━━━━━━\u001b[0m\u001b[37m\u001b[0m \u001b[1m115s\u001b[0m 82s/step - accuracy: 0.9583 - loss: 0.4450 - val_accuracy: 0.1071 - val_loss: 2938.3391\n",
      "Epoch 15/15\n",
      "\u001b[1m2/2\u001b[0m \u001b[32m━━━━━━━━━━━━━━━━━━━━\u001b[0m\u001b[37m\u001b[0m \u001b[1m0s\u001b[0m 13s/step - accuracy: 0.6875 - loss: 0.4370 \n",
      "Epoch 15: val_accuracy did not improve from 0.89286\n",
      "\u001b[1m2/2\u001b[0m \u001b[32m━━━━━━━━━━━━━━━━━━━━\u001b[0m\u001b[37m\u001b[0m \u001b[1m6490s\u001b[0m 6476s/step - accuracy: 0.7083 - loss: 0.4145 - val_accuracy: 0.1161 - val_loss: 521416.9688\n",
      "\u001b[1m14/14\u001b[0m \u001b[32m━━━━━━━━━━━━━━━━━━━━\u001b[0m\u001b[37m\u001b[0m \u001b[1m41s\u001b[0m 3s/step - accuracy: 0.0837 - loss: 540523.2500\n",
      "📊 [Fold 4] Loss: 521419.5625, Accuracy: 0.1161\n",
      "\n",
      "🌀 Treinando Fold 5...\n",
      "Epoch 1/15\n",
      "\u001b[1m2/2\u001b[0m \u001b[32m━━━━━━━━━━━━━━━━━━━━\u001b[0m\u001b[37m\u001b[0m \u001b[1m0s\u001b[0m 12s/step - accuracy: 0.5000 - loss: 0.7776 \n",
      "Epoch 1: val_accuracy improved from -inf to 0.87500, saving model to ../model/melhor_modelo_fold5.h5\n"
     ]
    },
    {
     "name": "stderr",
     "output_type": "stream",
     "text": [
      "WARNING:absl:You are saving your model as an HDF5 file via `model.save()` or `keras.saving.save_model(model)`. This file format is considered legacy. We recommend using instead the native Keras format, e.g. `model.save('my_model.keras')` or `keras.saving.save_model(model, 'my_model.keras')`. \n"
     ]
    },
    {
     "name": "stdout",
     "output_type": "stream",
     "text": [
      "\u001b[1m2/2\u001b[0m \u001b[32m━━━━━━━━━━━━━━━━━━━━\u001b[0m\u001b[37m\u001b[0m \u001b[1m89s\u001b[0m 70s/step - accuracy: 0.5417 - loss: 0.7243 - val_accuracy: 0.8750 - val_loss: 0.9779\n",
      "Epoch 2/15\n",
      "\u001b[1m2/2\u001b[0m \u001b[32m━━━━━━━━━━━━━━━━━━━━\u001b[0m\u001b[37m\u001b[0m \u001b[1m0s\u001b[0m 11s/step - accuracy: 0.8750 - loss: 0.1249 \n",
      "Epoch 2: val_accuracy did not improve from 0.87500\n",
      "\u001b[1m2/2\u001b[0m \u001b[32m━━━━━━━━━━━━━━━━━━━━\u001b[0m\u001b[37m\u001b[0m \u001b[1m47s\u001b[0m 31s/step - accuracy: 0.8750 - loss: 0.1278 - val_accuracy: 0.8750 - val_loss: 1.3943\n",
      "Epoch 3/15\n",
      "\u001b[1m2/2\u001b[0m \u001b[32m━━━━━━━━━━━━━━━━━━━━\u001b[0m\u001b[37m\u001b[0m \u001b[1m0s\u001b[0m 13s/step - accuracy: 0.7188 - loss: 2.0931 \n",
      "Epoch 3: val_accuracy did not improve from 0.87500\n",
      "\u001b[1m2/2\u001b[0m \u001b[32m━━━━━━━━━━━━━━━━━━━━\u001b[0m\u001b[37m\u001b[0m \u001b[1m66s\u001b[0m 54s/step - accuracy: 0.7500 - loss: 1.8615 - val_accuracy: 0.8750 - val_loss: 12.0278\n",
      "Epoch 4/15\n",
      "\u001b[1m2/2\u001b[0m \u001b[32m━━━━━━━━━━━━━━━━━━━━\u001b[0m\u001b[37m\u001b[0m \u001b[1m0s\u001b[0m 13s/step - accuracy: 0.8438 - loss: 0.6433 \n",
      "Epoch 4: val_accuracy did not improve from 0.87500\n",
      "\u001b[1m2/2\u001b[0m \u001b[32m━━━━━━━━━━━━━━━━━━━━\u001b[0m\u001b[37m\u001b[0m \u001b[1m69s\u001b[0m 56s/step - accuracy: 0.8333 - loss: 0.6071 - val_accuracy: 0.8750 - val_loss: 533.9283\n",
      "Epoch 5/15\n",
      "\u001b[1m2/2\u001b[0m \u001b[32m━━━━━━━━━━━━━━━━━━━━\u001b[0m\u001b[37m\u001b[0m \u001b[1m0s\u001b[0m 13s/step - accuracy: 0.7500 - loss: 0.6221 \n",
      "Epoch 5: val_accuracy did not improve from 0.87500\n",
      "\u001b[1m2/2\u001b[0m \u001b[32m━━━━━━━━━━━━━━━━━━━━\u001b[0m\u001b[37m\u001b[0m \u001b[1m69s\u001b[0m 55s/step - accuracy: 0.7500 - loss: 0.6074 - val_accuracy: 0.8750 - val_loss: 880.1575\n",
      "Epoch 6/15\n",
      "\u001b[1m2/2\u001b[0m \u001b[32m━━━━━━━━━━━━━━━━━━━━\u001b[0m\u001b[37m\u001b[0m \u001b[1m0s\u001b[0m 13s/step - accuracy: 0.6250 - loss: 1.9041 \n",
      "Epoch 6: val_accuracy did not improve from 0.87500\n",
      "\u001b[1m2/2\u001b[0m \u001b[32m━━━━━━━━━━━━━━━━━━━━\u001b[0m\u001b[37m\u001b[0m \u001b[1m64s\u001b[0m 51s/step - accuracy: 0.6250 - loss: 1.7983 - val_accuracy: 0.1250 - val_loss: 104302.3672\n",
      "Epoch 7/15\n",
      "\u001b[1m2/2\u001b[0m \u001b[32m━━━━━━━━━━━━━━━━━━━━\u001b[0m\u001b[37m\u001b[0m \u001b[1m0s\u001b[0m 15s/step - accuracy: 0.4375 - loss: 1.8027 \n",
      "Epoch 7: val_accuracy did not improve from 0.87500\n",
      "\u001b[1m2/2\u001b[0m \u001b[32m━━━━━━━━━━━━━━━━━━━━\u001b[0m\u001b[37m\u001b[0m \u001b[1m68s\u001b[0m 55s/step - accuracy: 0.4583 - loss: 1.6775 - val_accuracy: 0.1250 - val_loss: 229780.2500\n",
      "Epoch 8/15\n",
      "\u001b[1m2/2\u001b[0m \u001b[32m━━━━━━━━━━━━━━━━━━━━\u001b[0m\u001b[37m\u001b[0m \u001b[1m0s\u001b[0m 12s/step - accuracy: 1.0000 - loss: 0.2553 \n",
      "Epoch 8: val_accuracy improved from 0.87500 to 0.88393, saving model to ../model/melhor_modelo_fold5.h5\n"
     ]
    },
    {
     "name": "stderr",
     "output_type": "stream",
     "text": [
      "WARNING:absl:You are saving your model as an HDF5 file via `model.save()` or `keras.saving.save_model(model)`. This file format is considered legacy. We recommend using instead the native Keras format, e.g. `model.save('my_model.keras')` or `keras.saving.save_model(model, 'my_model.keras')`. \n"
     ]
    },
    {
     "name": "stdout",
     "output_type": "stream",
     "text": [
      "\u001b[1m2/2\u001b[0m \u001b[32m━━━━━━━━━━━━━━━━━━━━\u001b[0m\u001b[37m\u001b[0m \u001b[1m74s\u001b[0m 55s/step - accuracy: 1.0000 - loss: 0.2458 - val_accuracy: 0.8839 - val_loss: 1262.6525\n",
      "Epoch 9/15\n",
      "\u001b[1m2/2\u001b[0m \u001b[32m━━━━━━━━━━━━━━━━━━━━\u001b[0m\u001b[37m\u001b[0m \u001b[1m0s\u001b[0m 23s/step - accuracy: 0.9375 - loss: 0.4093 \n",
      "Epoch 9: val_accuracy did not improve from 0.88393\n",
      "\u001b[1m2/2\u001b[0m \u001b[32m━━━━━━━━━━━━━━━━━━━━\u001b[0m\u001b[37m\u001b[0m \u001b[1m77s\u001b[0m 64s/step - accuracy: 0.9167 - loss: 0.4977 - val_accuracy: 0.8839 - val_loss: 20953.2871\n",
      "Epoch 10/15\n",
      "\u001b[1m2/2\u001b[0m \u001b[32m━━━━━━━━━━━━━━━━━━━━\u001b[0m\u001b[37m\u001b[0m \u001b[1m0s\u001b[0m 12s/step - accuracy: 0.9375 - loss: 0.3016 \n",
      "Epoch 10: val_accuracy did not improve from 0.88393\n",
      "\u001b[1m2/2\u001b[0m \u001b[32m━━━━━━━━━━━━━━━━━━━━\u001b[0m\u001b[37m\u001b[0m \u001b[1m67s\u001b[0m 55s/step - accuracy: 0.9167 - loss: 0.3780 - val_accuracy: 0.8750 - val_loss: 41835.3555\n",
      "Epoch 11/15\n",
      "\u001b[1m2/2\u001b[0m \u001b[32m━━━━━━━━━━━━━━━━━━━━\u001b[0m\u001b[37m\u001b[0m \u001b[1m0s\u001b[0m 12s/step - accuracy: 0.7500 - loss: 1.9031 \n",
      "Epoch 11: val_accuracy did not improve from 0.88393\n",
      "\u001b[1m2/2\u001b[0m \u001b[32m━━━━━━━━━━━━━━━━━━━━\u001b[0m\u001b[37m\u001b[0m \u001b[1m79s\u001b[0m 65s/step - accuracy: 0.7500 - loss: 1.7981 - val_accuracy: 0.8750 - val_loss: 19648.9492\n",
      "Epoch 12/15\n",
      "\u001b[1m2/2\u001b[0m \u001b[32m━━━━━━━━━━━━━━━━━━━━\u001b[0m\u001b[37m\u001b[0m \u001b[1m0s\u001b[0m 12s/step - accuracy: 0.9375 - loss: 0.5054 \n",
      "Epoch 12: val_accuracy did not improve from 0.88393\n",
      "\u001b[1m2/2\u001b[0m \u001b[32m━━━━━━━━━━━━━━━━━━━━\u001b[0m\u001b[37m\u001b[0m \u001b[1m58s\u001b[0m 46s/step - accuracy: 0.9167 - loss: 0.5600 - val_accuracy: 0.8750 - val_loss: 1752.7177\n",
      "Epoch 13/15\n",
      "\u001b[1m2/2\u001b[0m \u001b[32m━━━━━━━━━━━━━━━━━━━━\u001b[0m\u001b[37m\u001b[0m \u001b[1m0s\u001b[0m 11s/step - accuracy: 0.9062 - loss: 0.2944 \n",
      "Epoch 13: val_accuracy did not improve from 0.88393\n",
      "\u001b[1m2/2\u001b[0m \u001b[32m━━━━━━━━━━━━━━━━━━━━\u001b[0m\u001b[37m\u001b[0m \u001b[1m59s\u001b[0m 48s/step - accuracy: 0.9167 - loss: 0.3031 - val_accuracy: 0.1250 - val_loss: 12386.8545\n",
      "Epoch 14/15\n",
      "\u001b[1m2/2\u001b[0m \u001b[32m━━━━━━━━━━━━━━━━━━━━\u001b[0m\u001b[37m\u001b[0m \u001b[1m0s\u001b[0m 18s/step - accuracy: 0.8438 - loss: 0.4131 \n",
      "Epoch 14: val_accuracy did not improve from 0.88393\n",
      "\u001b[1m2/2\u001b[0m \u001b[32m━━━━━━━━━━━━━━━━━━━━\u001b[0m\u001b[37m\u001b[0m \u001b[1m76s\u001b[0m 65s/step - accuracy: 0.8333 - loss: 0.4089 - val_accuracy: 0.1250 - val_loss: 19010.7168\n",
      "Epoch 15/15\n",
      "\u001b[1m2/2\u001b[0m \u001b[32m━━━━━━━━━━━━━━━━━━━━\u001b[0m\u001b[37m\u001b[0m \u001b[1m0s\u001b[0m 14s/step - accuracy: 0.8438 - loss: 0.4361 \n",
      "Epoch 15: val_accuracy did not improve from 0.88393\n",
      "\u001b[1m2/2\u001b[0m \u001b[32m━━━━━━━━━━━━━━━━━━━━\u001b[0m\u001b[37m\u001b[0m \u001b[1m73s\u001b[0m 50s/step - accuracy: 0.8333 - loss: 0.4551 - val_accuracy: 0.1250 - val_loss: 15130.1553\n",
      "\u001b[1m14/14\u001b[0m \u001b[32m━━━━━━━━━━━━━━━━━━━━\u001b[0m\u001b[37m\u001b[0m \u001b[1m49s\u001b[0m 4s/step - accuracy: 0.1234 - loss: 15149.3613\n",
      "📊 [Fold 5] Loss: 15127.6787, Accuracy: 0.1250\n"
     ]
    }
   ],
   "source": [
    "fold = 1\n",
    "accuracies = []\n",
    "losses = []\n",
    "\n",
    "log_path = '../results/cv_info.txt'\n",
    "with open(log_path, 'w') as log_file:\n",
    "\n",
    "    for train_idx, val_idx in kf.split(dados):\n",
    "        log_file.write(f\"[Fold {fold}]\\n\")\n",
    "        log_file.write(f\"Treino: {list(train_idx)}\\n\")\n",
    "        log_file.write(f\"Validação: {list(val_idx)}\\n\\n\")\n",
    "\n",
    "        print(f\"\\n🌀 Treinando Fold {fold}...\")\n",
    "\n",
    "        train_data = [dados[i] for i in train_idx]\n",
    "        val_data = [dados[i] for i in val_idx]\n",
    "\n",
    "        train_gen = ParImageGenerator(dados=train_data, batch_size=8, augmentacao=True)\n",
    "        val_gen = ParImageGenerator(dados=val_data, batch_size=8, augmentacao=False)\n",
    "\n",
    "        modelo = criar_modelo()\n",
    "        modelo.compile(optimizer=tf.keras.optimizers.Adam(),\n",
    "                        loss='binary_crossentropy',\n",
    "                        metrics=['accuracy'])\n",
    "\n",
    "        checkpoint = ModelCheckpoint(\n",
    "            filepath=f'../model/melhor_modelo_fold{fold}.h5',\n",
    "            monitor='val_accuracy',\n",
    "            save_best_only=True, # salva o melhor modelo\n",
    "            verbose=1\n",
    "        )\n",
    "\n",
    "        logger = CSVLogger(f'../results/historico_treinamento_fold{fold}.csv', append=False)\n",
    "\n",
    "        modelo.fit(\n",
    "            train_gen,\n",
    "            validation_data=val_gen,\n",
    "            epochs=15,\n",
    "            # steps_per_epoch=len(train_gen),\n",
    "            steps_per_epoch=2,\n",
    "            callbacks=[checkpoint, logger],\n",
    "            verbose=1\n",
    "        )\n",
    "\n",
    "        loss, accuracy = modelo.evaluate(val_gen, verbose=1)\n",
    "        print(f\"📊 [Fold {fold}] Loss: {loss:.4f}, Accuracy: {accuracy:.4f}\")\n",
    "\n",
    "        accuracies.append(accuracy)\n",
    "        losses.append(loss)\n",
    "        fold += 1"
   ]
  },
  {
   "cell_type": "code",
   "execution_count": 22,
   "metadata": {},
   "outputs": [],
   "source": [
    "# ============================\n",
    "# 📈 Resultados finais\n",
    "# ============================\n",
    "media_acc = np.mean(accuracies)\n",
    "media_loss = np.mean(losses)"
   ]
  },
  {
   "cell_type": "code",
   "execution_count": 23,
   "metadata": {},
   "outputs": [
    {
     "name": "stdout",
     "output_type": "stream",
     "text": [
      "\n",
      "✅ Cross-validation finalizada!\n",
      "📉 Média da Loss: 120635.5401\n",
      "✅ Média da Accuracy: 0.4286\n"
     ]
    }
   ],
   "source": [
    "print(f\"\\n✅ Cross-validation finalizada!\")\n",
    "print(f\"📉 Média da Loss: {media_loss:.4f}\")\n",
    "print(f\"✅ Média da Accuracy: {media_acc:.4f}\")"
   ]
  },
  {
   "cell_type": "code",
   "execution_count": 24,
   "metadata": {},
   "outputs": [],
   "source": [
    "# Salvar resumo no log\n",
    "with open(log_path, 'a') as log_file:\n",
    "    log_file.write(\"=== Resultado Final ===\\n\")\n",
    "    log_file.write(f\"Média da Loss: {media_loss:.4f}\\n\")\n",
    "    log_file.write(f\"Média da Accuracy: {media_acc:.4f}\\n\")"
   ]
  }
 ],
 "metadata": {
  "kernelspec": {
   "display_name": "venv",
   "language": "python",
   "name": "venv"
  },
  "language_info": {
   "codemirror_mode": {
    "name": "ipython",
    "version": 3
   },
   "file_extension": ".py",
   "mimetype": "text/x-python",
   "name": "python",
   "nbconvert_exporter": "python",
   "pygments_lexer": "ipython3",
   "version": "3.11.9"
  }
 },
 "nbformat": 4,
 "nbformat_minor": 2
}
