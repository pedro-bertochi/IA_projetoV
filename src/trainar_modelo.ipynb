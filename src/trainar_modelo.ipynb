{
 "cells": [
  {
   "cell_type": "code",
   "execution_count": null,
   "metadata": {},
   "outputs": [],
   "source": [
    "import os\n",
    "import tensorflow as tf\n",
    "from sklearn.model_selection import train_test_split\n",
    "from core import criar_modelo, ParImageGenerator\n",
    "from tensorflow.keras.callbacks import ModelCheckpoint, CSVLogger"
   ]
  },
  {
   "cell_type": "code",
   "execution_count": null,
   "metadata": {},
   "outputs": [],
   "source": [
    "tf.config.run_functions_eagerly(True)\n",
    "\n",
    "os.makedirs('../model', exist_ok=True)\n",
    "os.makedirs('../results', exist_ok=True)"
   ]
  },
  {
   "cell_type": "code",
   "execution_count": null,
   "metadata": {},
   "outputs": [],
   "source": [
    "# Caminho para salvar o modelo principal\n",
    "caminho_modelo = '../model/modelo_solda_resnet50.h5'\n",
    "\n",
    "# Carregar ou criar o modelo\n",
    "if os.path.exists(caminho_modelo):\n",
    "    print(\"Carregando modelo salvo...\")\n",
    "    modelo = tf.keras.models.load_model(caminho_modelo)\n",
    "else:\n",
    "    print(\"Criando novo modelo...\")\n",
    "    modelo = criar_modelo()"
   ]
  },
  {
   "cell_type": "code",
   "execution_count": null,
   "metadata": {},
   "outputs": [],
   "source": [
    "# Recompilar com otimizador novo\n",
    "modelo.compile(optimizer=tf.keras.optimizers.Adam(),\n",
    "                loss='binary_crossentropy',\n",
    "                metrics=['accuracy'])"
   ]
  },
  {
   "cell_type": "code",
   "execution_count": null,
   "metadata": {},
   "outputs": [],
   "source": [
    "# ============================================\n",
    "# 🔁 Carregar dados e dividir entre treino/validação\n",
    "# ============================================\n",
    "gen_temporario = ParImageGenerator('../image/treinamento', batch_size=1, augmentacao=False)\n",
    "dados = list(zip(gen_temporario.imagens, gen_temporario.labels))\n",
    "\n",
    "train_data, val_data = train_test_split(dados, test_size=0.2, shuffle=True)\n",
    "\n",
    "# Criar geradores com dados separados\n",
    "train_gen = ParImageGenerator(train_data, batch_size=8, augmentacao=True)\n",
    "val_gen = ParImageGenerator(val_data, batch_size=8, augmentacao=False)"
   ]
  },
  {
   "cell_type": "code",
   "execution_count": null,
   "metadata": {},
   "outputs": [],
   "source": [
    "# ============================================\n",
    "# 📦 Callbacks: checkpoint + logger\n",
    "# ============================================\n",
    "checkpoint = ModelCheckpoint(\n",
    "    filepath='../model/melhor_modelo.h5',\n",
    "    monitor='val_accuracy',\n",
    "    save_best_only=True,\n",
    "    verbose=1\n",
    ")\n",
    "\n",
    "logger = CSVLogger('../results/historico_treinamento.csv', append=True)"
   ]
  },
  {
   "cell_type": "code",
   "execution_count": null,
   "metadata": {},
   "outputs": [],
   "source": [
    "# ============================================\n",
    "# ▶️ Treinamento\n",
    "# ============================================\n",
    "modelo.fit(\n",
    "    train_gen,\n",
    "    validation_data=val_gen,\n",
    "    epochs=15,\n",
    "    steps_per_epoch=len(train_gen),\n",
    "    callbacks=[checkpoint, logger],\n",
    "    verbose=1\n",
    ")"
   ]
  },
  {
   "cell_type": "code",
   "execution_count": null,
   "metadata": {},
   "outputs": [],
   "source": [
    "# Avaliação final no conjunto de validação\n",
    "loss, accuracy = modelo.evaluate(val_gen, verbose=1)\n",
    "print(f\"[AVALIAÇÃO FINAL] Loss: {loss:.4f}, Accuracy: {accuracy:.4f}\")\n",
    "\n",
    "# Salvar o modelo final\n",
    "print(\"Salvando modelo final...\")\n",
    "modelo.save(caminho_modelo)"
   ]
  }
 ],
 "metadata": {
  "kernelspec": {
   "display_name": "venv",
   "language": "python",
   "name": "venv"
  },
  "language_info": {
   "codemirror_mode": {
    "name": "ipython",
    "version": 3
   },
   "file_extension": ".py",
   "mimetype": "text/x-python",
   "name": "python",
   "nbconvert_exporter": "python",
   "pygments_lexer": "ipython3",
   "version": "3.11.9"
  }
 },
 "nbformat": 4,
 "nbformat_minor": 2
}
