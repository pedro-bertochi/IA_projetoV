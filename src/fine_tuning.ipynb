{
 "cells": [
  {
   "cell_type": "code",
   "execution_count": 1,
   "id": "c09e2906",
   "metadata": {},
   "outputs": [],
   "source": [
    "import os\n",
    "import tensorflow as tf\n",
    "from core import ParImageGenerator, criar_modelo\n",
    "\n",
    "from tensorflow.keras.models import load_model\n",
    "from tensorflow.keras.callbacks import ModelCheckpoint, CSVLogger\n",
    "\n",
    "from sklearn.model_selection import KFold\n",
    "import numpy as np"
   ]
  },
  {
   "cell_type": "code",
   "execution_count": 2,
   "id": "970a3bc8",
   "metadata": {},
   "outputs": [],
   "source": [
    "# Caminhos\n",
    "model_dir = '../model'\n",
    "results_dir = '../results'\n",
    "image_dir = '../image/treinamento'\n",
    "log_txt_path = os.path.join(results_dir, \"fine_tuning_summary.txt\")\n",
    "\n",
    "os.makedirs(results_dir, exist_ok=True)"
   ]
  },
  {
   "cell_type": "code",
   "execution_count": 3,
   "id": "c44966f4",
   "metadata": {},
   "outputs": [],
   "source": [
    "# Carrega todos os dados para gerar os validadores novamente\n",
    "gen_temporario = ParImageGenerator(image_dir, batch_size=1, augmentacao=False)\n",
    "dados = list(zip(gen_temporario.imagens, gen_temporario.labels))"
   ]
  },
  {
   "cell_type": "code",
   "execution_count": 4,
   "id": "1cd7d4f9",
   "metadata": {},
   "outputs": [],
   "source": [
    "# Define os folds\n",
    "kf = KFold(n_splits=5, shuffle=True, random_state=42)"
   ]
  },
  {
   "cell_type": "code",
   "execution_count": null,
   "id": "cc7f5656",
   "metadata": {},
   "outputs": [],
   "source": [
    "fold = 1\n",
    "accuracies = []\n",
    "losses = []\n",
    "with open(log_txt_path, 'w') as log_file:\n",
    "\n",
    "    for train_idx, val_idx in kf.split(dados):\n",
    "        print(f\"\\n🔧 Fine-tuning do modelo do Fold {fold}\")\n",
    "        log_file.write(f\"\\n[FOLD {fold}]\\n\")\n",
    "\n",
    "        # Dados\n",
    "        val_data = [dados[i] for i in val_idx]\n",
    "        val_gen = ParImageGenerator(dados=val_data, batch_size=8, augmentacao=False)\n",
    "\n",
    "        # Carrega modelo salvo anteriormente\n",
    "        model_path = f\"{model_dir}/melhor_modelo_fold{fold}.h5\"\n",
    "        model = load_model(model_path)\n",
    "\n",
    "        # Descongela camadas\n",
    "        if hasattr(model.layers[0], 'layers'):\n",
    "            base_model = model.layers[0]\n",
    "            base_model.trainable = True\n",
    "            for layer in base_model.layers[:100]:\n",
    "                layer.trainable = False\n",
    "\n",
    "        # Compila\n",
    "        model.compile(\n",
    "            optimizer=tf.keras.optimizers.Adam(learning_rate=1e-5),\n",
    "            loss='binary_crossentropy',\n",
    "            metrics=['accuracy']\n",
    "        )\n",
    "\n",
    "        # Callbacks\n",
    "        checkpoint = ModelCheckpoint(\n",
    "            filepath=f\"{model_dir}/fine_tuned_fold{fold}.h5\",\n",
    "            monitor='val_accuracy',\n",
    "            save_best_only=True,\n",
    "            verbose=1\n",
    "        )\n",
    "        logger = CSVLogger(f'{results_dir}/fine_tuning_log_fold{fold}.csv', append=False)\n",
    "\n",
    "        # Fine-tuning\n",
    "        model.fit(\n",
    "            val_gen,\n",
    "            validation_data=val_gen,\n",
    "            epochs=10,\n",
    "            callbacks=[checkpoint, logger],\n",
    "            verbose=1\n",
    "        )\n",
    "\n",
    "        # Avaliação\n",
    "        loss, acc = model.evaluate(val_gen, verbose=0)\n",
    "        log_file.write(f\"Accuracy: {acc:.4f}, Loss: {loss:.4f}\\n\")\n",
    "\n",
    "        accuracies.append(acc)\n",
    "        losses.append(loss)\n",
    "\n",
    "        fold += 1\n",
    "\n",
    "    # Média dos resultados\n",
    "    media_acc = np.mean(accuracies)\n",
    "    media_loss = np.mean(losses)\n",
    "\n",
    "    log_file.write(\"\\n=== RESULTADO FINAL ===\\n\")\n",
    "    log_file.write(f\"Média Accuracy: {media_acc:.4f}\\n\")\n",
    "    log_file.write(f\"Média Loss: {media_loss:.4f}\\n\")\n",
    "\n",
    "print(\"\\n✅ Fine-tuning finalizado. Logs gravados com sucesso!\")"
   ]
  }
 ],
 "metadata": {
  "kernelspec": {
   "display_name": "venv",
   "language": "python",
   "name": "venv"
  },
  "language_info": {
   "codemirror_mode": {
    "name": "ipython",
    "version": 3
   },
   "file_extension": ".py",
   "mimetype": "text/x-python",
   "name": "python",
   "nbconvert_exporter": "python",
   "pygments_lexer": "ipython3",
   "version": "3.11.9"
  }
 },
 "nbformat": 4,
 "nbformat_minor": 5
}
