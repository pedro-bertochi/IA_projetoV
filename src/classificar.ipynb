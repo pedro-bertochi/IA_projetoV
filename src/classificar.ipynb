{
 "cells": [
  {
   "cell_type": "code",
   "execution_count": null,
   "metadata": {},
   "outputs": [],
   "source": [
    "import os\n",
    "from src.core import criar_modelo, combinar_imagens\n",
    "import numpy as np\n",
    "import shutil\n",
    "import tensorflow as tf"
   ]
  },
  {
   "cell_type": "code",
   "execution_count": null,
   "metadata": {},
   "outputs": [],
   "source": [
    "modelo = criar_modelo()\n",
    "train_gen = ParImageGenerator('../image/treino', batch_size=8)\n",
    "modelo.fit(train_gen, epochs=10)\n",
    "modelo.save('../model/modelo_solda_resnet50.h5')"
   ]
  },
  {
   "cell_type": "code",
   "execution_count": null,
   "metadata": {},
   "outputs": [],
   "source": [
    "modelo = tf.keras.models.load_model('../model/modelo_solda_resnet50.h5')\n",
    "caminho = '../image/classificacao/novas'\n",
    "imagens = sorted([f for f in os.listdir(caminho) if f.lower().endswith('.jpg')])"
   ]
  },
  {
   "cell_type": "code",
   "execution_count": null,
   "metadata": {},
   "outputs": [],
   "source": [
    "if len(imagens) % 2 != 0:\n",
    "    print(\"[AVISO] Número ímpar de imagens! A última será ignorada.\")\n",
    "    imagens = imagens[:-1]\n"
   ]
  },
  {
   "cell_type": "code",
   "execution_count": null,
   "metadata": {},
   "outputs": [],
   "source": [
    "for i in range(0, len(imagens), 2):\n",
    "    p1 = os.path.join(caminho, imagens[i])\n",
    "    p2 = os.path.join(caminho, imagens[i+1])\n",
    "    entrada = combinar_imagens(p1, p2)\n",
    "    entrada = np.expand_dims(entrada / 255.0, axis=0)\n",
    "    pred = modelo.predict(entrada)[0][0]\n",
    "    destino = 'boa' if pred >= 0.8 else 'ruim'\n",
    "    os.makedirs(f'../image/classificacao/{destino}', exist_ok=True)\n",
    "    shutil.move(p1, f'../image/classificacao/{destino}/{os.path.basename(p1)}')\n",
    "    shutil.move(p2, f'../image/classificacao/{destino}/{os.path.basename(p2)}')"
   ]
  }
 ],
 "metadata": {
  "language_info": {
   "name": "python"
  }
 },
 "nbformat": 4,
 "nbformat_minor": 2
}
