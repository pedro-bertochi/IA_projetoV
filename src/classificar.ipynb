{
 "cells": [
  {
   "cell_type": "code",
   "execution_count": 13,
   "metadata": {},
   "outputs": [],
   "source": [
    "import os\n",
    "import shutil\n",
    "import tensorflow as tf\n",
    "from core import criar_modelo, combinar_imagens\n",
    "from utils import save_accuracy\n",
    "import numpy as np"
   ]
  },
  {
   "cell_type": "code",
   "execution_count": 17,
   "metadata": {},
   "outputs": [
    {
     "name": "stderr",
     "output_type": "stream",
     "text": [
      "WARNING:absl:Compiled the loaded model, but the compiled metrics have yet to be built. `model.compile_metrics` will be empty until you train or evaluate the model.\n"
     ]
    }
   ],
   "source": [
    "# modelo = tf.keras.models.load_model('../model/modelo_solda_resnet50.h5')\n",
    "modelo = tf.keras.models.load_model('../model/melhor_modelo.h5')\n",
    "caminho = '../image/classificacao/novas'\n",
    "imagens = sorted([f for f in os.listdir(caminho) if f.lower().endswith('.jpg')])\n",
    "\n",
    "os.makedirs('../results', exist_ok=True)"
   ]
  },
  {
   "cell_type": "code",
   "execution_count": 18,
   "metadata": {},
   "outputs": [],
   "source": [
    "if len(imagens) % 2 != 0:\n",
    "    print(\"[AVISO] Número ímpar de imagens! A última será ignorada.\")\n",
    "    imagens = imagens[:-1]"
   ]
  },
  {
   "cell_type": "code",
   "execution_count": 19,
   "metadata": {},
   "outputs": [
    {
     "name": "stdout",
     "output_type": "stream",
     "text": [
      "Predição: 1.00 - Imagens: SNAP0000.jpg e SNAP0001.jpg - Destino: boa\n",
      "Predição: 1.00 - Imagens: SNAP0002.jpg e SNAP0003.jpg - Destino: boa\n",
      "Predição: 1.00 - Imagens: SNAP0004.jpg e SNAP0005.jpg - Destino: boa\n",
      "Predição: 1.00 - Imagens: SNAP0006.jpg e SNAP0007.jpg - Destino: boa\n",
      "Predição: 1.00 - Imagens: SNAP0106.jpg e SNAP0107.jpg - Destino: boa\n",
      "Predição: 1.00 - Imagens: SNAP0108.jpg e SNAP0109.jpg - Destino: boa\n",
      "Predição: 1.00 - Imagens: SNAP0110.jpg e SNAP0111.jpg - Destino: boa\n",
      "Predição: 1.00 - Imagens: deSNAP0000.jpg e deSNAP0001.jpg - Destino: boa\n",
      "Predição: 1.00 - Imagens: deSNAP0002.jpg e deSNAP0003.jpg - Destino: boa\n",
      "Predição: 1.00 - Imagens: deSNAP0004.jpg e deSNAP0005.jpg - Destino: boa\n",
      "Predição: 1.00 - Imagens: deSNAP0006.jpg e deSNAP0007.jpg - Destino: boa\n",
      "Predição: 1.00 - Imagens: deSNAP0008.jpg e deSNAP0009.jpg - Destino: boa\n",
      "Predição: 1.00 - Imagens: deSNAP0010.jpg e deSNAP0011.jpg - Destino: boa\n",
      "Predição: 1.00 - Imagens: deSNAP0659.jpg e deSNAP0660.jpg - Destino: boa\n",
      "Predição: 1.00 - Imagens: vaca0001.jpg e vaca0002.jpg - Destino: boa\n"
     ]
    }
   ],
   "source": [
    "for i in range(0, len(imagens), 2):\n",
    "    p1 = os.path.join(caminho, imagens[i])\n",
    "    p2 = os.path.join(caminho, imagens[i+1])\n",
    "    \n",
    "    # Preparar a entrada para o modelo\n",
    "    entrada = combinar_imagens(p1, p2)\n",
    "    entrada = np.expand_dims(entrada / 255.0, axis=0)\n",
    "\n",
    "    # Predição do modelo\n",
    "    pred = modelo.predict(entrada, verbose=0)[0][0]\n",
    "    \n",
    "    destino = 'boa' if pred >= 0.8 else 'ruim'\n",
    "    print(f\"Predição: {pred:.2f} - Imagens: {imagens[i]} e {imagens[i+1]} - Destino: {destino}\")\n",
    "\n",
    "\n",
    "    save_accuracy(\"../results/accuracy.txt\", pred, imagens[i], imagens[i+1])\n",
    "\n",
    "    # Criar diretório de destino se não existir\n",
    "    os.makedirs(f'../image/classificacao/{destino}', exist_ok=True)\n",
    "\n",
    "    # Mover as imagens para o diretório de destino\n",
    "    shutil.move(p1, os.path.join(f'../image/classificacao/{destino}', os.path.basename(p1)))\n",
    "    shutil.move(p2, os.path.join(f'../image/classificacao/{destino}', os.path.basename(p2)))"
   ]
  }
 ],
 "metadata": {
  "kernelspec": {
   "display_name": "venv",
   "language": "python",
   "name": "venv"
  },
  "language_info": {
   "codemirror_mode": {
    "name": "ipython",
    "version": 3
   },
   "file_extension": ".py",
   "mimetype": "text/x-python",
   "name": "python",
   "nbconvert_exporter": "python",
   "pygments_lexer": "ipython3",
   "version": "3.11.9"
  }
 },
 "nbformat": 4,
 "nbformat_minor": 2
}
