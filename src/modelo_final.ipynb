{
 "cells": [
  {
   "cell_type": "code",
   "execution_count": 1,
   "id": "5ff6a503",
   "metadata": {},
   "outputs": [],
   "source": [
    "import os\n",
    "import numpy as np\n",
    "import tensorflow as tf\n",
    "from tensorflow.keras.models import load_model\n",
    "from core import criar_modelo  # mesma função usada no treino"
   ]
  },
  {
   "cell_type": "code",
   "execution_count": 2,
   "id": "1370f9a0",
   "metadata": {},
   "outputs": [],
   "source": [
    "# Caminho onde estão os modelos fine-tuned\n",
    "model_dir = '../model'\n",
    "n_folds = 5"
   ]
  },
  {
   "cell_type": "code",
   "execution_count": null,
   "id": "ccdb089b",
   "metadata": {},
   "outputs": [],
   "source": [
    "# Carrega todos os modelos fine-tuned\n",
    "modelos = []\n",
    "for fold in range(1, n_folds + 1):\n",
    "    caminho = f'{model_dir}/fine_tuned_fold{fold}.h5'\n",
    "    modelos.append(load_model(caminho))"
   ]
  },
  {
   "cell_type": "code",
   "execution_count": null,
   "id": "e6ea09ae",
   "metadata": {},
   "outputs": [],
   "source": [
    "# Verifica se as arquiteturas são compatíveis\n",
    "for i in range(1, len(modelos)):\n",
    "    if len(modelos[i].get_weights()) != len(modelos[0].get_weights()):\n",
    "        raise ValueError(\"Modelos têm arquiteturas diferentes!\")"
   ]
  },
  {
   "cell_type": "code",
   "execution_count": null,
   "id": "aba10bcd",
   "metadata": {},
   "outputs": [],
   "source": [
    "# Faz a média dos pesos\n",
    "pesos_medios = []\n",
    "for pesos_camadas in zip(*[m.get_weights() for m in modelos]):\n",
    "    pesos_medios.append(np.mean(pesos_camadas, axis=0))"
   ]
  },
  {
   "cell_type": "code",
   "execution_count": null,
   "id": "0ece8548",
   "metadata": {},
   "outputs": [],
   "source": [
    "# Cria novo modelo com a mesma arquitetura e aplica os pesos médios\n",
    "modelo_final = criar_modelo()\n",
    "modelo_final.set_weights(pesos_medios)"
   ]
  },
  {
   "cell_type": "code",
   "execution_count": null,
   "id": "8f03d881",
   "metadata": {},
   "outputs": [],
   "source": [
    "# Salva o modelo final (pode ser .h5 ou SavedModel para produção)\n",
    "modelo_final.save(f'{model_dir}/modelo_final_media.h5')\n",
    "print(\"✅ Modelo final salvo com sucesso!\")"
   ]
  }
 ],
 "metadata": {
  "kernelspec": {
   "display_name": "venv",
   "language": "python",
   "name": "venv"
  },
  "language_info": {
   "codemirror_mode": {
    "name": "ipython",
    "version": 3
   },
   "file_extension": ".py",
   "mimetype": "text/x-python",
   "name": "python",
   "nbconvert_exporter": "python",
   "pygments_lexer": "ipython3",
   "version": "3.11.9"
  }
 },
 "nbformat": 4,
 "nbformat_minor": 5
}
