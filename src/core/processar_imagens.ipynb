{
 "cells": [
  {
   "cell_type": "code",
   "execution_count": null,
   "metadata": {},
   "outputs": [],
   "source": [
    "import cv2\n",
    "import numpy as np\n",
    "import os\n"
   ]
  },
  {
   "cell_type": "code",
   "execution_count": null,
   "metadata": {},
   "outputs": [],
   "source": [
    "def combinar_imagens(path1, path2, size=(224, 224)):\n",
    "    img1 = cv2.imread(path1)\n",
    "    img2 = cv2.imread(path2)\n",
    "    if img1 is None or img2 is None:\n",
    "        raise ValueError(f\"Erro ao carregar imagens: {path1}, {path2}\")\n",
    "    img1 = cv2.resize(img1, size)\n",
    "    img2 = cv2.resize(img2, size)\n",
    "    return np.concatenate([img1, img2], axis=1)"
   ]
  }
 ],
 "metadata": {
  "language_info": {
   "name": "python"
  }
 },
 "nbformat": 4,
 "nbformat_minor": 2
}
