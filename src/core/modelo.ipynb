{
 "cells": [
  {
   "cell_type": "code",
   "execution_count": null,
   "metadata": {},
   "outputs": [],
   "source": [
    "from tensorflow.keras.applications import ResNet50\n",
    "from tensorflow.keras.layers import Dense, Flatten, Input, GlobalAveragePooling2D\n",
    "from tensorflow.keras.models import Model"
   ]
  },
  {
   "cell_type": "code",
   "execution_count": null,
   "metadata": {},
   "outputs": [],
   "source": [
    "def criar_modelo():\n",
    "    base = ResNet50(weights='imagenet', include_top=False, input_shape=(224, 448, 3))\n",
    "    for layer in base.layers:\n",
    "        layer.trainable = False\n",
    "\n",
    "    x = GlobalAveragePooling2D()(base.output)\n",
    "    x = Dense(128, activation='relu')(x)\n",
    "    saida = Dense(1, activation='sigmoid')(x)\n",
    "\n",
    "    modelo = Model(inputs=base.input, outputs=saida)\n",
    "    modelo.compile(optimizer='adam', loss='binary_crossentropy', metrics=['accuracy'])\n",
    "    return modelo"
   ]
  }
 ],
 "metadata": {
  "language_info": {
   "name": "python"
  }
 },
 "nbformat": 4,
 "nbformat_minor": 2
}
