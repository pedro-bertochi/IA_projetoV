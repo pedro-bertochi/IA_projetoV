{
 "cells": [
  {
   "cell_type": "code",
   "execution_count": 2,
   "id": "a76221f8",
   "metadata": {},
   "outputs": [],
   "source": [
    "import os\n",
    "import numpy as np\n",
    "import tensorflow as tf\n",
    "from PIL import Image\n",
    "\n",
    "from tensorflow.keras.applications import ResNet50\n",
    "from tensorflow.keras.applications.resnet50 import preprocess_input, decode_predictions"
   ]
  },
  {
   "cell_type": "code",
   "execution_count": 3,
   "id": "4531aebe",
   "metadata": {},
   "outputs": [
    {
     "name": "stdout",
     "output_type": "stream",
     "text": [
      "❌ Nenhuma GPU compatível com CUDA detectada. O TensorFlow será executado na CPU.\n",
      "Continuando a execução na CPU.\n"
     ]
    }
   ],
   "source": [
    "# --- Configuração para uso de GPU (CUDA) ---\n",
    "# O TensorFlow detecta e usa GPUs automaticamente se o ambiente estiver configurado.\n",
    "# Se nenhuma GPU compatível for encontrada ou configurada, ele usará a CPU.\n",
    "try:\n",
    "    gpus = tf.config.list_physical_devices('GPU')\n",
    "    if gpus:\n",
    "        # Configura a memória da GPU para crescer dinamicamente.\n",
    "        for gpu in gpus:\n",
    "            tf.config.experimental.set_memory_growth(gpu, True)\n",
    "        print(f\"✅ GPU(s) detectada(s) e configurada(s) para uso dinâmico de memória: {gpus}\")\n",
    "        print(\"TensorFlow utilizará a(s) GPU(s) disponível(is) para aceleração.\")\n",
    "    else:\n",
    "        print(\"❌ Nenhuma GPU compatível com CUDA detectada. O TensorFlow será executado na CPU.\")\n",
    "        print(\"Continuando a execução na CPU.\")\n",
    "except RuntimeError as e:\n",
    "    # Captura erros que podem ocorrer se a GPU não estiver configurada corretamente\n",
    "    print(f\"❌ Erro ao configurar GPU: {e}\")\n",
    "    print(\"O TensorFlow será executado na CPU devido ao erro na configuração da GPU.\")\n",
    "# --- Fim da Configuração de GPU ---"
   ]
  },
  {
   "cell_type": "code",
   "execution_count": 4,
   "id": "b3107e1d",
   "metadata": {},
   "outputs": [],
   "source": [
    "# --- Função para carregar e pré-processar uma única imagem ---\n",
    "def load_and_preprocess_single_image(image_path: str, target_size: tuple = (224, 224)):\n",
    "    \"\"\"\n",
    "    Carrega uma única imagem, redimensiona e aplica o pré-processamento\n",
    "    necessário para o modelo ResNet50 pré-treinado no ImageNet.\n",
    "\n",
    "    Args:\n",
    "        image_path (str): Caminho para o arquivo da imagem.\n",
    "        target_size (tuple): Tamanho (largura, altura) para redimensionar a imagem.\n",
    "                             Para ResNet50, o padrão é (224, 224).\n",
    "\n",
    "    Returns:\n",
    "        numpy.ndarray: Imagem pré-processada, pronta para a entrada do modelo.\n",
    "                       Formato (1, height, width, channels).\n",
    "    \"\"\"\n",
    "    if not os.path.exists(image_path):\n",
    "        raise FileNotFoundError(f\"Arquivo de imagem não encontrado: {image_path}\")\n",
    "\n",
    "    try:\n",
    "        # Carregar a imagem usando PIL (Pillow)\n",
    "        img = Image.open(image_path).convert('RGB') # Garante 3 canais de cor\n",
    "        # Redimensionar a imagem\n",
    "        img = img.resize(target_size, Image.LANCZOS) # LANCZOS para melhor qualidade de redimensionamento\n",
    "        # Converter para array NumPy\n",
    "        img_array = np.array(img)\n",
    "        # Adicionar dimensão de batch (o modelo espera um lote de imagens)\n",
    "        img_array = np.expand_dims(img_array, axis=0)\n",
    "        # Aplicar o pré-processamento específico do ResNet50 (normalização, etc.)\n",
    "        img_preprocessed = preprocess_input(img_array)\n",
    "        return img_preprocessed\n",
    "    except Exception as e:\n",
    "        raise ValueError(f\"Erro ao carregar ou pré-processar a imagem '{image_path}': {e}\")\n",
    "\n"
   ]
  },
  {
   "cell_type": "code",
   "execution_count": 5,
   "id": "4ff38397",
   "metadata": {},
   "outputs": [
    {
     "name": "stdout",
     "output_type": "stream",
     "text": [
      "Iniciando análise da imagem: ../image/treinamento/boa\\SNAP0454.jpg\n",
      "Carregando modelo ResNet50 pré-treinado no ImageNet...\n",
      "✅ Modelo ResNet50 carregado com sucesso.\n",
      "✅ Imagem pré-processada com sucesso.\n",
      "Fazendo a predição...\n",
      "\u001b[1m1/1\u001b[0m \u001b[32m━━━━━━━━━━━━━━━━━━━━\u001b[0m\u001b[37m\u001b[0m \u001b[1m2s\u001b[0m 2s/step\n",
      "Downloading data from https://storage.googleapis.com/download.tensorflow.org/data/imagenet_class_index.json\n",
      "\u001b[1m35363/35363\u001b[0m \u001b[32m━━━━━━━━━━━━━━━━━━━━\u001b[0m\u001b[37m\u001b[0m \u001b[1m0s\u001b[0m 0us/step\n",
      "\n",
      "--- Principais Predições (ImageNet) ---\n",
      "1: coffeepot (46.74%)\n",
      "2: washer (8.97%)\n",
      "3: water_bottle (6.57%)\n",
      "4: mixing_bowl (5.18%)\n",
      "5: joystick (3.84%)\n",
      "\n",
      "Análise concluída.\n"
     ]
    }
   ],
   "source": [
    "# --- Bloco de Execução Principal ---\n",
    "if __name__ == \"__main__\":\n",
    "    # --- Configurações ---\n",
    "    # Caminho para a imagem que você quer analisar\n",
    "    IMAGE_TO_ANALYZE_PATH = '../image/treinamento/boa\\SNAP0454.jpg'\n",
    "\n",
    "    # Crie o diretório de teste se não existir\n",
    "    os.makedirs(os.path.dirname(IMAGE_TO_ANALYZE_PATH), exist_ok=True)\n",
    "\n",
    "    print(f\"Iniciando análise da imagem: {IMAGE_TO_ANALYZE_PATH}\")\n",
    "\n",
    "    # 1. Carregar o modelo ResNet50 pré-treinado no ImageNet\n",
    "    # 'include_top=True' é crucial para ter a camada de classificação ImageNet\n",
    "    print(\"Carregando modelo ResNet50 pré-treinado no ImageNet...\")\n",
    "    try:\n",
    "        model = ResNet50(weights='imagenet', include_top=True)\n",
    "        print(\"✅ Modelo ResNet50 carregado com sucesso.\")\n",
    "    except Exception as e:\n",
    "        print(f\"❌ ERRO ao carregar o modelo ResNet50: {e}\")\n",
    "        print(\"Verifique sua conexão com a internet ou a instalação do TensorFlow/Keras.\")\n",
    "        exit()\n",
    "\n",
    "    # 2. Carregar e pré-processar a imagem\n",
    "    try:\n",
    "        processed_image = load_and_preprocess_single_image(IMAGE_TO_ANALYZE_PATH)\n",
    "        print(\"✅ Imagem pré-processada com sucesso.\")\n",
    "    except (FileNotFoundError, ValueError) as e:\n",
    "        print(f\"❌ ERRO na imagem: {e}\")\n",
    "        print(\"Por favor, verifique se o caminho da imagem está correto e se o arquivo é válido.\")\n",
    "        exit()\n",
    "\n",
    "    # 3. Fazer a predição\n",
    "    print(\"Fazendo a predição...\")\n",
    "    predictions = model.predict(processed_image)\n",
    "\n",
    "    # 4. Decodificar as predições (transformar os números em nomes de classes ImageNet)\n",
    "    # 'top=5' mostra as 5 principais previsões\n",
    "    decoded_predictions = decode_predictions(predictions, top=5)[0]\n",
    "\n",
    "    print(\"\\n--- Principais Predições (ImageNet) ---\")\n",
    "    for i, (imagenet_id, label, score) in enumerate(decoded_predictions):\n",
    "        print(f\"{i+1}: {label} ({score*100:.2f}%)\")\n",
    "\n",
    "    print(\"\\nAnálise concluída.\")\n"
   ]
  }
 ],
 "metadata": {
  "kernelspec": {
   "display_name": "venv",
   "language": "python",
   "name": "python3"
  },
  "language_info": {
   "codemirror_mode": {
    "name": "ipython",
    "version": 3
   },
   "file_extension": ".py",
   "mimetype": "text/x-python",
   "name": "python",
   "nbconvert_exporter": "python",
   "pygments_lexer": "ipython3",
   "version": "3.11.9"
  }
 },
 "nbformat": 4,
 "nbformat_minor": 5
}
