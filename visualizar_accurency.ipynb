{
 "cells": [
  {
   "cell_type": "code",
   "execution_count": 14,
   "metadata": {},
   "outputs": [],
   "source": [
    "import os\n",
    "import pandas as pd\n",
    "import seaborn as sns\n",
    "import matplotlib.pyplot as plt"
   ]
  },
  {
   "cell_type": "code",
   "execution_count": 15,
   "metadata": {},
   "outputs": [],
   "source": [
    "# Caminho do arquivo onde o script principal salva os resultados\n",
    "resultado_path = \"classificacao_resultados.txt\""
   ]
  },
  {
   "cell_type": "code",
   "execution_count": 16,
   "metadata": {},
   "outputs": [],
   "source": [
    "# Verifica se o arquivo existe\n",
    "if not os.path.exists(resultado_path):\n",
    "    print(f\"Arquivo {resultado_path} não encontrado! Execute primeiro a classificação.\")\n",
    "    exit()"
   ]
  },
  {
   "cell_type": "code",
   "execution_count": 17,
   "metadata": {},
   "outputs": [
    {
     "name": "stderr",
     "output_type": "stream",
     "text": [
      "C:\\Users\\finan\\AppData\\Local\\Temp\\ipykernel_38932\\3831374837.py:4: FutureWarning: DataFrame.applymap has been deprecated. Use DataFrame.map instead.\n",
      "  df = df.applymap(lambda x: str(x).strip())  # Remover espaços extras\n"
     ]
    }
   ],
   "source": [
    "# Carregar os dados no Pandas, tratando possíveis erros\n",
    "try:\n",
    "    df = pd.read_csv(resultado_path, names=[\"Imagem\", \"Certeza\", \"Correta\"], skiprows=1)\n",
    "    df = df.applymap(lambda x: str(x).strip())  # Remover espaços extras\n",
    "    df[\"Certeza\"] = pd.to_numeric(df[\"Certeza\"], errors='coerce')\n",
    "    df[\"Correta\"] = pd.to_numeric(df[\"Correta\"], errors='coerce')\n",
    "    df.dropna(inplace=True)  # Remover linhas com valores inválidos\n",
    "except Exception as e:\n",
    "    print(f\"Erro ao processar o arquivo: {e}\")\n",
    "    exit()\n"
   ]
  },
  {
   "cell_type": "code",
   "execution_count": 18,
   "metadata": {},
   "outputs": [
    {
     "data": {
      "application/vnd.microsoft.datawrangler.viewer.v0+json": {
       "columns": [
        {
         "name": "index",
         "rawType": "int64",
         "type": "integer"
        },
        {
         "name": "Imagem",
         "rawType": "object",
         "type": "string"
        },
        {
         "name": "Certeza",
         "rawType": "float64",
         "type": "float"
        },
        {
         "name": "Correta",
         "rawType": "int64",
         "type": "integer"
        }
       ],
       "conversionMethod": "pd.DataFrame",
       "ref": "f500cf3b-b47c-4de3-a7cb-2e1b557c10a5",
       "rows": [
        [
         "0",
         "god",
         "100.0",
         "1"
        ],
        [
         "1",
         "good2",
         "97.81",
         "1"
        ],
        [
         "2",
         "good",
         "100.0",
         "1"
        ],
        [
         "3",
         "nice",
         "100.0",
         "1"
        ],
        [
         "4",
         "solda",
         "100.0",
         "1"
        ],
        [
         "5",
         "soldaaboa",
         "100.0",
         "1"
        ],
        [
         "6",
         "soldaaruim",
         "99.35",
         "1"
        ],
        [
         "7",
         "soldabboa",
         "100.0",
         "1"
        ],
        [
         "8",
         "soldaboa",
         "100.0",
         "1"
        ],
        [
         "9",
         "soldaboaa",
         "100.0",
         "1"
        ],
        [
         "10",
         "soldadboa",
         "100.0",
         "1"
        ],
        [
         "11",
         "soldadruim",
         "99.35",
         "1"
        ],
        [
         "12",
         "soldahruim",
         "99.35",
         "1"
        ],
        [
         "13",
         "soldarruim",
         "99.35",
         "1"
        ],
        [
         "14",
         "soldaruim",
         "99.35",
         "1"
        ],
        [
         "15",
         "soldauruim",
         "99.35",
         "1"
        ]
       ],
       "shape": {
        "columns": 3,
        "rows": 16
       }
      },
      "text/html": [
       "<div>\n",
       "<style scoped>\n",
       "    .dataframe tbody tr th:only-of-type {\n",
       "        vertical-align: middle;\n",
       "    }\n",
       "\n",
       "    .dataframe tbody tr th {\n",
       "        vertical-align: top;\n",
       "    }\n",
       "\n",
       "    .dataframe thead th {\n",
       "        text-align: right;\n",
       "    }\n",
       "</style>\n",
       "<table border=\"1\" class=\"dataframe\">\n",
       "  <thead>\n",
       "    <tr style=\"text-align: right;\">\n",
       "      <th></th>\n",
       "      <th>Imagem</th>\n",
       "      <th>Certeza</th>\n",
       "      <th>Correta</th>\n",
       "    </tr>\n",
       "  </thead>\n",
       "  <tbody>\n",
       "    <tr>\n",
       "      <th>0</th>\n",
       "      <td>god</td>\n",
       "      <td>100.00</td>\n",
       "      <td>1</td>\n",
       "    </tr>\n",
       "    <tr>\n",
       "      <th>1</th>\n",
       "      <td>good2</td>\n",
       "      <td>97.81</td>\n",
       "      <td>1</td>\n",
       "    </tr>\n",
       "    <tr>\n",
       "      <th>2</th>\n",
       "      <td>good</td>\n",
       "      <td>100.00</td>\n",
       "      <td>1</td>\n",
       "    </tr>\n",
       "    <tr>\n",
       "      <th>3</th>\n",
       "      <td>nice</td>\n",
       "      <td>100.00</td>\n",
       "      <td>1</td>\n",
       "    </tr>\n",
       "    <tr>\n",
       "      <th>4</th>\n",
       "      <td>solda</td>\n",
       "      <td>100.00</td>\n",
       "      <td>1</td>\n",
       "    </tr>\n",
       "    <tr>\n",
       "      <th>5</th>\n",
       "      <td>soldaaboa</td>\n",
       "      <td>100.00</td>\n",
       "      <td>1</td>\n",
       "    </tr>\n",
       "    <tr>\n",
       "      <th>6</th>\n",
       "      <td>soldaaruim</td>\n",
       "      <td>99.35</td>\n",
       "      <td>1</td>\n",
       "    </tr>\n",
       "    <tr>\n",
       "      <th>7</th>\n",
       "      <td>soldabboa</td>\n",
       "      <td>100.00</td>\n",
       "      <td>1</td>\n",
       "    </tr>\n",
       "    <tr>\n",
       "      <th>8</th>\n",
       "      <td>soldaboa</td>\n",
       "      <td>100.00</td>\n",
       "      <td>1</td>\n",
       "    </tr>\n",
       "    <tr>\n",
       "      <th>9</th>\n",
       "      <td>soldaboaa</td>\n",
       "      <td>100.00</td>\n",
       "      <td>1</td>\n",
       "    </tr>\n",
       "    <tr>\n",
       "      <th>10</th>\n",
       "      <td>soldadboa</td>\n",
       "      <td>100.00</td>\n",
       "      <td>1</td>\n",
       "    </tr>\n",
       "    <tr>\n",
       "      <th>11</th>\n",
       "      <td>soldadruim</td>\n",
       "      <td>99.35</td>\n",
       "      <td>1</td>\n",
       "    </tr>\n",
       "    <tr>\n",
       "      <th>12</th>\n",
       "      <td>soldahruim</td>\n",
       "      <td>99.35</td>\n",
       "      <td>1</td>\n",
       "    </tr>\n",
       "    <tr>\n",
       "      <th>13</th>\n",
       "      <td>soldarruim</td>\n",
       "      <td>99.35</td>\n",
       "      <td>1</td>\n",
       "    </tr>\n",
       "    <tr>\n",
       "      <th>14</th>\n",
       "      <td>soldaruim</td>\n",
       "      <td>99.35</td>\n",
       "      <td>1</td>\n",
       "    </tr>\n",
       "    <tr>\n",
       "      <th>15</th>\n",
       "      <td>soldauruim</td>\n",
       "      <td>99.35</td>\n",
       "      <td>1</td>\n",
       "    </tr>\n",
       "  </tbody>\n",
       "</table>\n",
       "</div>"
      ],
      "text/plain": [
       "        Imagem  Certeza  Correta\n",
       "0          god   100.00        1\n",
       "1        good2    97.81        1\n",
       "2         good   100.00        1\n",
       "3         nice   100.00        1\n",
       "4        solda   100.00        1\n",
       "5    soldaaboa   100.00        1\n",
       "6   soldaaruim    99.35        1\n",
       "7    soldabboa   100.00        1\n",
       "8     soldaboa   100.00        1\n",
       "9    soldaboaa   100.00        1\n",
       "10   soldadboa   100.00        1\n",
       "11  soldadruim    99.35        1\n",
       "12  soldahruim    99.35        1\n",
       "13  soldarruim    99.35        1\n",
       "14   soldaruim    99.35        1\n",
       "15  soldauruim    99.35        1"
      ]
     },
     "execution_count": 18,
     "metadata": {},
     "output_type": "execute_result"
    }
   ],
   "source": [
    "df"
   ]
  },
  {
   "cell_type": "code",
   "execution_count": 19,
   "metadata": {},
   "outputs": [
    {
     "data": {
      "text/plain": [
       "<Axes: xlabel='Imagem', ylabel='Certeza'>"
      ]
     },
     "execution_count": 19,
     "metadata": {},
     "output_type": "execute_result"
    },
    {
     "data": {
      "image/png": "[encoded data removed]",
      "text/plain": [
       "<Figure size 1000x500 with 1 Axes>"
      ]
     },
     "metadata": {},
     "output_type": "display_data"
    }
   ],
   "source": [
    "# Criar gráfico de dispersão com Seaborn\n",
    "plt.figure(figsize=(10, 5))\n",
    "sns.scatterplot(data=df, x=\"Imagem\", y=\"Certeza\", hue=\"Correta\", palette={0: \"red\", 1: \"green\"})"
   ]
  },
  {
   "cell_type": "code",
   "execution_count": 20,
   "metadata": {},
   "outputs": [
    {
     "data": {
      "image/png": "[encoded data removed]",
      "text/plain": [
       "<Figure size 640x480 with 1 Axes>"
      ]
     },
     "metadata": {},
     "output_type": "display_data"
    }
   ],
   "source": [
    "plt.axhline(y=50, color=\"gray\", linestyle=\"--\", label=\"Limite 50%\")\n",
    "plt.xticks(rotation=90, fontsize=8)\n",
    "plt.xlabel(\"Imagens\")\n",
    "plt.ylabel(\"Certeza (%)\")\n",
    "plt.title(\"Dispersão da Precisão da IA\")\n",
    "plt.legend([\"Correção Manual\", \"Classificação Certa\"])\n",
    "plt.grid(True, linestyle=\"--\", alpha=0.5)"
   ]
  },
  {
   "cell_type": "code",
   "execution_count": 21,
   "metadata": {},
   "outputs": [
    {
     "data": {
      "text/plain": [
       "<Figure size 640x480 with 0 Axes>"
      ]
     },
     "metadata": {},
     "output_type": "display_data"
    }
   ],
   "source": [
    "# Exibir gráfico\n",
    "plt.tight_layout()\n",
    "plt.show()"
   ]
  }
 ],
 "metadata": {
  "kernelspec": {
   "display_name": "venv",
   "language": "python",
   "name": "venv"
  },
  "language_info": {
   "codemirror_mode": {
    "name": "ipython",
    "version": 3
   },
   "file_extension": ".py",
   "mimetype": "text/x-python",
   "name": "python",
   "nbconvert_exporter": "python",
   "pygments_lexer": "ipython3",
   "version": "3.11.9"
  }
 },
 "nbformat": 4,
 "nbformat_minor": 2
}
