{
 "cells": [
  {
   "cell_type": "code",
   "execution_count": 1,
   "metadata": {},
   "outputs": [],
   "source": [
    "import os\n",
    "import cv2\n",
    "import numpy as np\n",
    "import tensorflow as tf\n",
    "import shutil"
   ]
  },
  {
   "cell_type": "code",
   "execution_count": 2,
   "metadata": {},
   "outputs": [
    {
     "name": "stderr",
     "output_type": "stream",
     "text": [
      "WARNING:absl:Compiled the loaded model, but the compiled metrics have yet to be built. `model.compile_metrics` will be empty until you train or evaluate the model.\n"
     ]
    }
   ],
   "source": [
    "# Carregar o modelo treinado\n",
    "model = tf.keras.models.load_model(r\"model/modelo_solda.h5\")\n",
    "\n",
    "# Diretório de novas imagens\n",
    "input_dir = r\"image/classificacao/novas\"\n",
    "train_dir = r\"image/classificacao\"  # Onde a IA vai mover as imagens classificadas\n",
    "classes = [\"boa\", \"ruim\", \"incertas\"]"
   ]
  },
  {
   "cell_type": "code",
   "execution_count": 3,
   "metadata": {},
   "outputs": [],
   "source": [
    "# Função para garantir que as pastas existam\n",
    "def verificar_pastas():\n",
    "    for classe in classes:\n",
    "        pasta = os.path.join(train_dir, classe)\n",
    "        if not os.path.exists(pasta):\n",
    "            os.makedirs(pasta)\n",
    "            print(f\"Pasta {classe} criada em {pasta}\")\n",
    "    incerta_pasta = os.path.join(train_dir, \"incertas\")\n",
    "    if not os.path.exists(incerta_pasta):\n",
    "        os.makedirs(incerta_pasta)\n",
    "        print(f\"Pasta 'incertas' criada em {incerta_pasta}\")"
   ]
  },
  {
   "cell_type": "code",
   "execution_count": 4,
   "metadata": {},
   "outputs": [],
   "source": [
    "# Listar imagens para classificação\n",
    "imagens = [f for f in os.listdir(input_dir) if f.endswith(('.png', '.jpg', '.jpeg'))]"
   ]
  },
  {
   "cell_type": "code",
   "execution_count": 5,
   "metadata": {},
   "outputs": [],
   "source": [
    "# Função de processamento de imagem\n",
    "def processar_imagem(img_path):\n",
    "    img = cv2.imread(img_path)\n",
    "    img = cv2.resize(img, (128, 128))  # Mesmo tamanho usado no treinamento\n",
    "    img = img / 255.0  # Normalizar\n",
    "    img = np.expand_dims(img, axis=0)  # Expandir dimensão para o modelo\n",
    "    return img"
   ]
  },
  {
   "cell_type": "code",
   "execution_count": 6,
   "metadata": {},
   "outputs": [],
   "source": [
    "# Garantir que as pastas existam\n",
    "verificar_pastas()"
   ]
  },
  {
   "cell_type": "code",
   "execution_count": 7,
   "metadata": {},
   "outputs": [
    {
     "name": "stdout",
     "output_type": "stream",
     "text": [
      "\u001b[1m1/1\u001b[0m \u001b[32m━━━━━━━━━━━━━━━━━━━━\u001b[0m\u001b[37m\u001b[0m \u001b[1m0s\u001b[0m 158ms/step\n",
      "Imagem solda_boa copy 10.jpg classificada como: boa\n",
      "Imagem movida para: image/classificacao\\boa\\solda_boa copy 10.jpg\n",
      "\u001b[1m1/1\u001b[0m \u001b[32m━━━━━━━━━━━━━━━━━━━━\u001b[0m\u001b[37m\u001b[0m \u001b[1m0s\u001b[0m 106ms/step\n",
      "Imagem solda_boa copy 2.jpg classificada como: boa\n",
      "Imagem movida para: image/classificacao\\boa\\solda_boa copy 2.jpg\n",
      "\u001b[1m1/1\u001b[0m \u001b[32m━━━━━━━━━━━━━━━━━━━━\u001b[0m\u001b[37m\u001b[0m \u001b[1m0s\u001b[0m 57ms/step\n",
      "Imagem solda_boa copy 3.jpg classificada como: boa\n",
      "Imagem movida para: image/classificacao\\boa\\solda_boa copy 3.jpg\n",
      "\u001b[1m1/1\u001b[0m \u001b[32m━━━━━━━━━━━━━━━━━━━━\u001b[0m\u001b[37m\u001b[0m \u001b[1m0s\u001b[0m 52ms/step\n",
      "Imagem solda_boa copy 4.jpg classificada como: boa\n",
      "Imagem movida para: image/classificacao\\boa\\solda_boa copy 4.jpg\n",
      "\u001b[1m1/1\u001b[0m \u001b[32m━━━━━━━━━━━━━━━━━━━━\u001b[0m\u001b[37m\u001b[0m \u001b[1m0s\u001b[0m 96ms/step\n",
      "Imagem solda_boa copy 5.jpg classificada como: boa\n",
      "Imagem movida para: image/classificacao\\boa\\solda_boa copy 5.jpg\n",
      "\u001b[1m1/1\u001b[0m \u001b[32m━━━━━━━━━━━━━━━━━━━━\u001b[0m\u001b[37m\u001b[0m \u001b[1m0s\u001b[0m 124ms/step\n",
      "Imagem solda_boa copy 6.jpg classificada como: boa\n",
      "Imagem movida para: image/classificacao\\boa\\solda_boa copy 6.jpg\n",
      "\u001b[1m1/1\u001b[0m \u001b[32m━━━━━━━━━━━━━━━━━━━━\u001b[0m\u001b[37m\u001b[0m \u001b[1m0s\u001b[0m 52ms/step\n",
      "Imagem solda_boa copy 7.jpg classificada como: boa\n",
      "Imagem movida para: image/classificacao\\boa\\solda_boa copy 7.jpg\n",
      "\u001b[1m1/1\u001b[0m \u001b[32m━━━━━━━━━━━━━━━━━━━━\u001b[0m\u001b[37m\u001b[0m \u001b[1m0s\u001b[0m 76ms/step\n",
      "Imagem solda_boa copy 8.jpg classificada como: boa\n",
      "Imagem movida para: image/classificacao\\boa\\solda_boa copy 8.jpg\n",
      "\u001b[1m1/1\u001b[0m \u001b[32m━━━━━━━━━━━━━━━━━━━━\u001b[0m\u001b[37m\u001b[0m \u001b[1m0s\u001b[0m 57ms/step\n",
      "Imagem solda_boa copy 9.jpg classificada como: boa\n",
      "Imagem movida para: image/classificacao\\boa\\solda_boa copy 9.jpg\n",
      "\u001b[1m1/1\u001b[0m \u001b[32m━━━━━━━━━━━━━━━━━━━━\u001b[0m\u001b[37m\u001b[0m \u001b[1m0s\u001b[0m 48ms/step\n",
      "Imagem solda_boa copy.jpg classificada como: boa\n",
      "Imagem movida para: image/classificacao\\boa\\solda_boa copy.jpg\n",
      "\u001b[1m1/1\u001b[0m \u001b[32m━━━━━━━━━━━━━━━━━━━━\u001b[0m\u001b[37m\u001b[0m \u001b[1m0s\u001b[0m 144ms/step\n",
      "Imagem solda_boa.jpg classificada como: boa\n",
      "Imagem movida para: image/classificacao\\boa\\solda_boa.jpg\n",
      "\u001b[1m1/1\u001b[0m \u001b[32m━━━━━━━━━━━━━━━━━━━━\u001b[0m\u001b[37m\u001b[0m \u001b[1m0s\u001b[0m 51ms/step\n",
      "Imagem solda_ruim copy 10.jpg classificada como: ruim\n",
      "Imagem movida para: image/classificacao\\ruim\\solda_ruim copy 10.jpg\n",
      "\u001b[1m1/1\u001b[0m \u001b[32m━━━━━━━━━━━━━━━━━━━━\u001b[0m\u001b[37m\u001b[0m \u001b[1m0s\u001b[0m 115ms/step\n",
      "Imagem solda_ruim copy 11.jpg classificada como: ruim\n",
      "Imagem movida para: image/classificacao\\ruim\\solda_ruim copy 11.jpg\n",
      "\u001b[1m1/1\u001b[0m \u001b[32m━━━━━━━━━━━━━━━━━━━━\u001b[0m\u001b[37m\u001b[0m \u001b[1m0s\u001b[0m 237ms/step\n",
      "Imagem solda_ruim copy 2.jpg classificada como: ruim\n",
      "Imagem movida para: image/classificacao\\ruim\\solda_ruim copy 2.jpg\n",
      "\u001b[1m1/1\u001b[0m \u001b[32m━━━━━━━━━━━━━━━━━━━━\u001b[0m\u001b[37m\u001b[0m \u001b[1m0s\u001b[0m 309ms/step\n",
      "Imagem solda_ruim copy 3.jpg classificada como: ruim\n",
      "Imagem movida para: image/classificacao\\ruim\\solda_ruim copy 3.jpg\n",
      "\u001b[1m1/1\u001b[0m \u001b[32m━━━━━━━━━━━━━━━━━━━━\u001b[0m\u001b[37m\u001b[0m \u001b[1m0s\u001b[0m 427ms/step\n",
      "Imagem solda_ruim copy 4.jpg classificada como: ruim\n",
      "Imagem movida para: image/classificacao\\ruim\\solda_ruim copy 4.jpg\n",
      "\u001b[1m1/1\u001b[0m \u001b[32m━━━━━━━━━━━━━━━━━━━━\u001b[0m\u001b[37m\u001b[0m \u001b[1m0s\u001b[0m 237ms/step\n",
      "Imagem solda_ruim copy 5.jpg classificada como: ruim\n",
      "Imagem movida para: image/classificacao\\ruim\\solda_ruim copy 5.jpg\n",
      "\u001b[1m1/1\u001b[0m \u001b[32m━━━━━━━━━━━━━━━━━━━━\u001b[0m\u001b[37m\u001b[0m \u001b[1m0s\u001b[0m 215ms/step\n",
      "Imagem solda_ruim copy 6.jpg classificada como: ruim\n",
      "Imagem movida para: image/classificacao\\ruim\\solda_ruim copy 6.jpg\n",
      "\u001b[1m1/1\u001b[0m \u001b[32m━━━━━━━━━━━━━━━━━━━━\u001b[0m\u001b[37m\u001b[0m \u001b[1m0s\u001b[0m 160ms/step\n",
      "Imagem solda_ruim copy 7.jpg classificada como: ruim\n",
      "Imagem movida para: image/classificacao\\ruim\\solda_ruim copy 7.jpg\n",
      "\u001b[1m1/1\u001b[0m \u001b[32m━━━━━━━━━━━━━━━━━━━━\u001b[0m\u001b[37m\u001b[0m \u001b[1m0s\u001b[0m 318ms/step\n",
      "Imagem solda_ruim copy 8.jpg classificada como: ruim\n",
      "Imagem movida para: image/classificacao\\ruim\\solda_ruim copy 8.jpg\n",
      "\u001b[1m1/1\u001b[0m \u001b[32m━━━━━━━━━━━━━━━━━━━━\u001b[0m\u001b[37m\u001b[0m \u001b[1m0s\u001b[0m 271ms/step\n",
      "Imagem solda_ruim copy 9.jpg classificada como: ruim\n",
      "Imagem movida para: image/classificacao\\ruim\\solda_ruim copy 9.jpg\n",
      "\u001b[1m1/1\u001b[0m \u001b[32m━━━━━━━━━━━━━━━━━━━━\u001b[0m\u001b[37m\u001b[0m \u001b[1m0s\u001b[0m 224ms/step\n",
      "Imagem solda_ruim copy.jpg classificada como: ruim\n",
      "Imagem movida para: image/classificacao\\ruim\\solda_ruim copy.jpg\n",
      "\u001b[1m1/1\u001b[0m \u001b[32m━━━━━━━━━━━━━━━━━━━━\u001b[0m\u001b[37m\u001b[0m \u001b[1m0s\u001b[0m 193ms/step\n",
      "Imagem solda_ruim.jpg classificada como: ruim\n",
      "Imagem movida para: image/classificacao\\ruim\\solda_ruim.jpg\n",
      "Classificação finalizada!\n"
     ]
    }
   ],
   "source": [
    "# Classificar as imagens\n",
    "for img_nome in imagens:\n",
    "    img_path = os.path.join(input_dir, img_nome)\n",
    "    img_processada = processar_imagem(img_path)\n",
    "\n",
    "    # Fazer previsão\n",
    "    predicao = model.predict(img_processada)[0]\n",
    "    classe_predita = np.argmax(predicao)\n",
    "    classe_nome = classes[classe_predita]\n",
    "\n",
    "    print(f\"Imagem {img_nome} classificada como: {classe_nome}\")\n",
    "\n",
    "    # Perguntar se a classificação está correta\n",
    "    resposta = input(f\"A classificação está correta? (s/n): \").strip().lower()\n",
    "\n",
    "    if resposta == \"n\":\n",
    "        nova_classe = input(\"Digite a classe correta (boa/ruim/incerta): \").strip().lower()\n",
    "        if nova_classe in classes:\n",
    "            destino = os.path.join(train_dir, nova_classe, img_nome)\n",
    "            shutil.move(img_path, destino)\n",
    "            print(f\"Imagem movida para: {destino}\")\n",
    "        else:\n",
    "            print(\"Classe inválida! A imagem não foi movida.\")\n",
    "    else:\n",
    "        # Mover a imagem para a pasta correspondente à classificação\n",
    "        destino = os.path.join(train_dir, classe_nome, img_nome)\n",
    "        shutil.move(img_path, destino)\n",
    "        print(f\"Imagem movida para: {destino}\")\n",
    "\n",
    "print(\"Classificação finalizada!\")"
   ]
  }
 ],
 "metadata": {
  "kernelspec": {
   "display_name": "venv",
   "language": "python",
   "name": "venv"
  },
  "language_info": {
   "codemirror_mode": {
    "name": "ipython",
    "version": 3
   },
   "file_extension": ".py",
   "mimetype": "text/x-python",
   "name": "python",
   "nbconvert_exporter": "python",
   "pygments_lexer": "ipython3",
   "version": "3.11.9"
  }
 },
 "nbformat": 4,
 "nbformat_minor": 2
}
