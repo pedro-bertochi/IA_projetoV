{
 "cells": [
  {
   "cell_type": "code",
   "execution_count": 1,
   "metadata": {},
   "outputs": [],
   "source": [
    "import os\n",
    "import cv2\n",
    "import numpy as np\n",
    "import tensorflow as tf\n",
    "from tensorflow.keras.models import load_model\n"
   ]
  },
  {
   "cell_type": "code",
   "execution_count": 9,
   "metadata": {},
   "outputs": [
    {
     "name": "stderr",
     "output_type": "stream",
     "text": [
      "WARNING:absl:Compiled the loaded model, but the compiled metrics have yet to be built. `model.compile_metrics` will be empty until you train or evaluate the model.\n"
     ]
    }
   ],
   "source": [
    "# Carregar modelo treinado\n",
    "model = tf.keras.models.load_model(r\"model/modelo_solda.h5\")\n",
    "\n",
    "# Diretório de novas imagens\n",
    "input_dir = r\"image/novas_imagens\"\n",
    "train_dir = r\"image/train\"\n",
    "classes = [\"boa\", \"ruim\"]\n",
    "\n",
    "# Listar imagens para classificação\n",
    "imagens = [f for f in os.listdir(input_dir) if f.endswith(('.png', '.jpg', '.jpeg'))]\n"
   ]
  },
  {
   "cell_type": "code",
   "execution_count": 10,
   "metadata": {},
   "outputs": [],
   "source": [
    "def processar_imagem(img_path):\n",
    "    img = cv2.imread(img_path)\n",
    "    img = cv2.resize(img, (128, 128))  # Mesmo tamanho usado no treinamento\n",
    "    img = img / 255.0  # Normalizar\n",
    "    img = np.expand_dims(img, axis=0)  # Expandir dimensão para o modelo\n",
    "    return img\n"
   ]
  },
  {
   "cell_type": "code",
   "execution_count": 11,
   "metadata": {},
   "outputs": [
    {
     "name": "stdout",
     "output_type": "stream",
     "text": [
      "Classificação finalizada!\n"
     ]
    }
   ],
   "source": [
    "for img_nome in imagens:\n",
    "    img_path = os.path.join(input_dir, img_nome)\n",
    "    img_processada = processar_imagem(img_path)\n",
    "    \n",
    "    # Fazer previsão\n",
    "    predicao = model.predict(img_processada)[0]\n",
    "    classe_predita = np.argmax(predicao)\n",
    "    classe_nome = classes[classe_predita]\n",
    "\n",
    "    print(f\"Imagem {img_nome} classificada como: {classe_nome}\")\n",
    "\n",
    "    # Perguntar se a classificação está correta\n",
    "    resposta = input(f\"A classificação está correta? (s/n): \").strip().lower()\n",
    "    \n",
    "    if resposta == \"n\":\n",
    "        nova_classe = input(\"Digite a classe correta (boa/ruim): \").strip().lower()\n",
    "        if nova_classe in classes:\n",
    "            destino = os.path.join(train_dir, nova_classe, img_nome)\n",
    "            shutil.move(img_path, destino)\n",
    "            print(f\"Imagem movida para: {destino}\")\n",
    "\n",
    "print(\"Classificação finalizada!\")\n"
   ]
  }
 ],
 "metadata": {
  "kernelspec": {
   "display_name": "venv",
   "language": "python",
   "name": "venv"
  },
  "language_info": {
   "codemirror_mode": {
    "name": "ipython",
    "version": 3
   },
   "file_extension": ".py",
   "mimetype": "text/x-python",
   "name": "python",
   "nbconvert_exporter": "python",
   "pygments_lexer": "ipython3",
   "version": "3.11.9"
  }
 },
 "nbformat": 4,
 "nbformat_minor": 2
}
