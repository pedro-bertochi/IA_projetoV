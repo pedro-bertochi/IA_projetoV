{
 "cells": [
  {
   "cell_type": "code",
   "execution_count": 51,
   "metadata": {},
   "outputs": [],
   "source": [
    "import os\n",
    "import cv2\n",
    "import numpy as np\n",
    "import tensorflow as tf\n",
    "import shutil"
   ]
  },
  {
   "cell_type": "code",
   "execution_count": 52,
   "metadata": {},
   "outputs": [
    {
     "name": "stderr",
     "output_type": "stream",
     "text": [
      "WARNING:absl:Compiled the loaded model, but the compiled metrics have yet to be built. `model.compile_metrics` will be empty until you train or evaluate the model.\n"
     ]
    }
   ],
   "source": [
    "# Carregar o modelo treinado\n",
    "model = tf.keras.models.load_model(r\"model/modelo_solda.h5\")\n",
    "\n",
    "# Diretório de novas imagens\n",
    "input_dir = r\"image/classificacao/novas\"\n",
    "train_dir = r\"image/classificacao\"  # Onde a IA vai mover as imagens classificadas\n",
    "classes = [\"boa\", \"ruim\", \"incertas\"]\n"
   ]
  },
  {
   "cell_type": "code",
   "execution_count": 53,
   "metadata": {},
   "outputs": [],
   "source": [
    "resultado_path = \"classificacao_resultados.txt\"\n",
    "with open(resultado_path, \"w\") as f:\n",
    "    f.write(\"Imagem,Certeza,Correta\\n\")"
   ]
  },
  {
   "cell_type": "code",
   "execution_count": 54,
   "metadata": {},
   "outputs": [],
   "source": [
    "# Função para garantir que as pastas existam\n",
    "def verificar_pastas():\n",
    "    for classe in classes:\n",
    "        pasta = os.path.join(train_dir, classe)\n",
    "        if not os.path.exists(pasta):\n",
    "            os.makedirs(pasta)\n",
    "            print(f\"Pasta {classe} criada em {pasta}\")\n",
    "    incerta_pasta = os.path.join(train_dir, \"incertas\")\n",
    "    if not os.path.exists(incerta_pasta):\n",
    "        os.makedirs(incerta_pasta)\n",
    "        print(f\"Pasta 'incertas' criada em {incerta_pasta}\")\n",
    "\n",
    "verificar_pastas()"
   ]
  },
  {
   "cell_type": "code",
   "execution_count": 55,
   "metadata": {},
   "outputs": [],
   "source": [
    "# Listar imagens e organizar em pares (assumindo que cada par tem um nome base comum)\n",
    "imagens = sorted([f for f in os.listdir(input_dir) if f.endswith(('.png', '.jpg', '.jpeg'))])\n",
    "pares = {}"
   ]
  },
  {
   "cell_type": "code",
   "execution_count": 56,
   "metadata": {},
   "outputs": [],
   "source": [
    "for img in imagens:\n",
    "    nome_base = img.rsplit('_', 1)[0]  # Remove a parte '_frente' ou '_tras'\n",
    "    if nome_base not in pares:\n",
    "        pares[nome_base] = []\n",
    "    pares[nome_base].append(img)"
   ]
  },
  {
   "cell_type": "code",
   "execution_count": 57,
   "metadata": {},
   "outputs": [],
   "source": [
    "# Função para processar duas imagens e concatená-las\n",
    "def processar_imagens(img_path1, img_path2):\n",
    "    img1 = cv2.imread(img_path1)\n",
    "    img2 = cv2.imread(img_path2)\n",
    "    img1 = cv2.resize(img1, (128, 128))\n",
    "    img2 = cv2.resize(img2, (128, 128))\n",
    "    img_concatenada = np.concatenate((img1, img2), axis=1)  # Junta as imagens lado a lado\n",
    "    img_concatenada = img_concatenada / 255.0  # Normalizar\n",
    "    img_concatenada = np.expand_dims(img_concatenada, axis=0)  # Expandir dimensão para o modelo\n",
    "    return img_concatenada"
   ]
  },
  {
   "cell_type": "code",
   "execution_count": null,
   "metadata": {},
   "outputs": [
    {
     "name": "stdout",
     "output_type": "stream",
     "text": [
      "\u001b[1m1/1\u001b[0m \u001b[32m━━━━━━━━━━━━━━━━━━━━\u001b[0m\u001b[37m\u001b[0m \u001b[1m0s\u001b[0m 181ms/step\n",
      "Par god_1 - Copia.jpg e god_1.jpg classificado como: boa (100.00% de certeza)\n",
      "Imagens movidas para: image/classificacao\\boa\n",
      "\u001b[1m1/1\u001b[0m \u001b[32m━━━━━━━━━━━━━━━━━━━━\u001b[0m\u001b[37m\u001b[0m \u001b[1m0s\u001b[0m 57ms/step\n",
      "Par good2_3 - Copia.png e good2_3.png classificado como: boa (97.81% de certeza)\n",
      "Imagens movidas para: image/classificacao\\boa\n",
      "\u001b[1m1/1\u001b[0m \u001b[32m━━━━━━━━━━━━━━━━━━━━\u001b[0m\u001b[37m\u001b[0m \u001b[1m0s\u001b[0m 57ms/step\n",
      "Par good_2 - Copia.png e good_2.png classificado como: boa (100.00% de certeza)\n",
      "Imagens movidas para: image/classificacao\\boa\n",
      "\u001b[1m1/1\u001b[0m \u001b[32m━━━━━━━━━━━━━━━━━━━━\u001b[0m\u001b[37m\u001b[0m \u001b[1m0s\u001b[0m 46ms/step\n",
      "Par nice_4 - Copia.png e nice_4.png classificado como: boa (100.00% de certeza)\n",
      "Imagens movidas para: image/classificacao\\boa\n",
      "\u001b[1m1/1\u001b[0m \u001b[32m━━━━━━━━━━━━━━━━━━━━\u001b[0m\u001b[37m\u001b[0m \u001b[1m0s\u001b[0m 67ms/step\n",
      "Par solda_boa - Copia.jpg e solda_boa.jpg classificado como: boa (100.00% de certeza)\n",
      "Imagens movidas para: image/classificacao\\boa\n",
      "\u001b[1m1/1\u001b[0m \u001b[32m━━━━━━━━━━━━━━━━━━━━\u001b[0m\u001b[37m\u001b[0m \u001b[1m0s\u001b[0m 45ms/step\n",
      "Par soldaaboa_copy 6.jpg e soldaaboa_copy 7.jpg classificado como: boa (100.00% de certeza)\n",
      "Imagens movidas para: image/classificacao\\boa\n",
      "\u001b[1m1/1\u001b[0m \u001b[32m━━━━━━━━━━━━━━━━━━━━\u001b[0m\u001b[37m\u001b[0m \u001b[1m0s\u001b[0m 55ms/step\n",
      "Par soldaaruim_copy 10.jpg e soldaaruim_copy 9.jpg classificado como: ruim (99.35% de certeza)\n",
      "Imagens movidas para: image/classificacao\\ruim\n",
      "\u001b[1m1/1\u001b[0m \u001b[32m━━━━━━━━━━━━━━━━━━━━\u001b[0m\u001b[37m\u001b[0m \u001b[1m0s\u001b[0m 52ms/step\n",
      "Par soldabboa_copy 8.jpg e soldabboa_copy 9.jpg classificado como: boa (100.00% de certeza)\n",
      "Imagens movidas para: image/classificacao\\boa\n",
      "\u001b[1m1/1\u001b[0m \u001b[32m━━━━━━━━━━━━━━━━━━━━\u001b[0m\u001b[37m\u001b[0m \u001b[1m1s\u001b[0m 555ms/step\n",
      "Par soldaboa_copy2.jpg e soldaboa_copy3.jpg classificado como: boa (100.00% de certeza)\n",
      "Imagens movidas para: image/classificacao\\boa\n",
      "\u001b[1m1/1\u001b[0m \u001b[32m━━━━━━━━━━━━━━━━━━━━\u001b[0m\u001b[37m\u001b[0m \u001b[1m0s\u001b[0m 140ms/step\n",
      "Par soldaboaa_copy 4.jpg e soldaboaa_copy 5.jpg classificado como: boa (100.00% de certeza)\n",
      "Imagens movidas para: image/classificacao\\boa\n",
      "\u001b[1m1/1\u001b[0m \u001b[32m━━━━━━━━━━━━━━━━━━━━\u001b[0m\u001b[37m\u001b[0m \u001b[1m0s\u001b[0m 195ms/step\n",
      "Par soldadboa_copy 10.jpg e soldadboa_copy.jpg classificado como: boa (100.00% de certeza)\n",
      "Imagens movidas para: image/classificacao\\boa\n",
      "\u001b[1m1/1\u001b[0m \u001b[32m━━━━━━━━━━━━━━━━━━━━\u001b[0m\u001b[37m\u001b[0m \u001b[1m0s\u001b[0m 78ms/step\n",
      "Par soldadruim_copy 7.jpg e soldadruim_copy 8.jpg classificado como: ruim (99.35% de certeza)\n",
      "Imagens movidas para: image/classificacao\\ruim\n",
      "\u001b[1m1/1\u001b[0m \u001b[32m━━━━━━━━━━━━━━━━━━━━\u001b[0m\u001b[37m\u001b[0m \u001b[1m0s\u001b[0m 48ms/step\n",
      "Par soldahruim_copy 3.jpg e soldahruim_copy 4.jpg classificado como: ruim (99.35% de certeza)\n",
      "Imagens movidas para: image/classificacao\\ruim\n",
      "\u001b[1m1/1\u001b[0m \u001b[32m━━━━━━━━━━━━━━━━━━━━\u001b[0m\u001b[37m\u001b[0m \u001b[1m0s\u001b[0m 59ms/step\n",
      "Par soldarruim_copy 11.jpg e soldarruim_copy.jpg classificado como: ruim (99.35% de certeza)\n",
      "Imagens movidas para: image/classificacao\\ruim\n",
      "\u001b[1m1/1\u001b[0m \u001b[32m━━━━━━━━━━━━━━━━━━━━\u001b[0m\u001b[37m\u001b[0m \u001b[1m0s\u001b[0m 57ms/step\n",
      "Par soldaruim_Copia.jpg e soldaruim_copia2.jpg classificado como: ruim (99.35% de certeza)\n",
      "Imagens movidas para: image/classificacao\\ruim\n",
      "\u001b[1m1/1\u001b[0m \u001b[32m━━━━━━━━━━━━━━━━━━━━\u001b[0m\u001b[37m\u001b[0m \u001b[1m0s\u001b[0m 45ms/step\n",
      "Par soldauruim_copy 5.jpg e soldauruim_copy 6.jpg classificado como: ruim (99.35% de certeza)\n",
      "Imagens movidas para: image/classificacao\\ruim\n",
      "Classificação finalizada!\n"
     ]
    }
   ],
   "source": [
    "# Classificar os pares de imagens\n",
    "for nome_base, imagens in pares.items():\n",
    "    if len(imagens) == 2:\n",
    "        img_path1 = os.path.join(input_dir, imagens[0])\n",
    "        img_path2 = os.path.join(input_dir, imagens[1])\n",
    "        img_processada = processar_imagens(img_path1, img_path2)\n",
    "        predicao = model.predict(img_processada)[0]\n",
    "        classe_predita = np.argmax(predicao)\n",
    "        classe_nome = classes[classe_predita]\n",
    "        certeza = predicao[classe_predita] * 100  # Converte para porcentagem\n",
    "        print(f\"Par {imagens[0]} e {imagens[1]} classificado como: {classe_nome} ({certeza:.2f}% de certeza)\")\n",
    "        \n",
    "        resposta = input(f\"A classificação está correta? (s/n): \").strip().lower()\n",
    "        correta = 1 if resposta == \"s\" else 0\n",
    "\n",
    "        # Salvar resultado no arquivo\n",
    "        with open(resultado_path, \"a\") as f:\n",
    "            f.write(f\"{nome_base},{certeza:.2f},{correta}\\n\")\n",
    "        \n",
    "        if resposta == \"n\":\n",
    "            nova_classe = input(\"Digite a classe correta (boa/ruim/incerta): \").strip().lower()\n",
    "            if nova_classe in classes:\n",
    "                destino = os.path.join(train_dir, nova_classe)\n",
    "                shutil.move(img_path1, os.path.join(destino, imagens[0]))\n",
    "                shutil.move(img_path2, os.path.join(destino, imagens[1]))\n",
    "                print(f\"Imagens movidas para: {destino}\")\n",
    "            else:\n",
    "                print(\"Classe inválida! As imagens não foram movidas.\")\n",
    "        else:\n",
    "            destino = os.path.join(train_dir, classe_nome)\n",
    "            shutil.move(img_path1, os.path.join(destino, imagens[0]))\n",
    "            shutil.move(img_path2, os.path.join(destino, imagens[1]))\n",
    "            print(f\"Imagens movidas para: {destino}\")\n",
    "\n",
    "print(\"Classificação finalizada!\")"
   ]
  }
 ],
 "metadata": {
  "kernelspec": {
   "display_name": "venv",
   "language": "python",
   "name": "venv"
  },
  "language_info": {
   "codemirror_mode": {
    "name": "ipython",
    "version": 3
   },
   "file_extension": ".py",
   "mimetype": "text/x-python",
   "name": "python",
   "nbconvert_exporter": "python",
   "pygments_lexer": "ipython3",
   "version": "3.11.9"
  }
 },
 "nbformat": 4,
 "nbformat_minor": 2
}
